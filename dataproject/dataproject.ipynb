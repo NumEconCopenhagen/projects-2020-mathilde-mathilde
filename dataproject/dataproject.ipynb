{
 "cells": [
  {
   "cell_type": "markdown",
   "metadata": {},
   "source": [
    "# Cross-country analysis of the Covid-19 outbreak"
   ]
  },
  {
   "cell_type": "markdown",
   "metadata": {},
   "source": [
    "Imports and set magics:"
   ]
  },
  {
   "cell_type": "code",
   "execution_count": 2,
   "metadata": {},
   "outputs": [
    {
     "name": "stdout",
     "output_type": "stream",
     "text": [
      "The autoreload extension is already loaded. To reload it, use:\n",
      "  %reload_ext autoreload\n"
     ]
    }
   ],
   "source": [
    "import pandas as pd\n",
    "import matplotlib.pyplot as plt\n",
    "import ipywidgets as widgets\n",
    "from ipywidgets.widgets import interact, SelectMultiple\n",
    "\n",
    "# autoreload modules when code is run\n",
    "%load_ext autoreload\n",
    "%autoreload 2\n",
    "\n",
    "# local modules\n",
    "import dataproject"
   ]
  },
  {
   "cell_type": "markdown",
   "metadata": {},
   "source": [
    "# Read and clean data\n",
    "\n",
    "We collect data from the \"2019 Novel Coronavirus COVID-19 (2019-nCoV) Data Repository by Johns Hopkins CSSE\", found on GitHub on the following link: https://github.com/CSSEGISandData/COVID-19/tree/master/csse_covid_19_data/csse_covid_19_time_series. The data is collected continuously and is thus updated whenever the file is run. However, we have commented on the data on the 29th of April so the comments do not necessarily match the shown data if a long time has passed since.\n",
    "We use three datasets: The number of confirmed cases, the number of cases resulting in death and the number of cases recovered.\n",
    "\n",
    "We begin by downloading a csv-file from the UN Population Prospects (https://population.un.org/wpp/Download/Standard/CSV/) from which we use the total population size (in thousands) in 2019 to calculate the number of Covid-19 cases per capita. \n"
   ]
  },
  {
   "cell_type": "code",
   "execution_count": 3,
   "metadata": {},
   "outputs": [],
   "source": [
    "# a. Load population data from UN\n",
    "population = pd.read_csv('data/WPP2019_TotalPopulationBySex.csv')\n",
    "\n",
    "# b. Select population in 2019 and only countries and population size\n",
    "population = population.loc[population['Time']==2019]\n",
    "PopTotal = population[['Location','PopTotal']].set_index('Location')\n",
    "PopTotal.index.rename('Country/Region', inplace=True)"
   ]
  },
  {
   "cell_type": "markdown",
   "metadata": {},
   "source": [
    "The country names included in the population data set do not exactly match the country names used in the Covid-19 data set. Therefore we change some of the names manually in the code below. The uncommented line in section a prints all country names in the population data set and has been used to find some of the countries, where the names do not match."
   ]
  },
  {
   "cell_type": "code",
   "execution_count": 4,
   "metadata": {},
   "outputs": [
    {
     "data": {
      "text/html": [
       "<div>\n",
       "<style scoped>\n",
       "    .dataframe tbody tr th:only-of-type {\n",
       "        vertical-align: middle;\n",
       "    }\n",
       "\n",
       "    .dataframe tbody tr th {\n",
       "        vertical-align: top;\n",
       "    }\n",
       "\n",
       "    .dataframe thead th {\n",
       "        text-align: right;\n",
       "    }\n",
       "</style>\n",
       "<table border=\"1\" class=\"dataframe\">\n",
       "  <thead>\n",
       "    <tr style=\"text-align: right;\">\n",
       "      <th></th>\n",
       "      <th>PopTotal</th>\n",
       "    </tr>\n",
       "    <tr>\n",
       "      <th>Country/Region</th>\n",
       "      <th></th>\n",
       "    </tr>\n",
       "  </thead>\n",
       "  <tbody>\n",
       "    <tr>\n",
       "      <th>Afghanistan</th>\n",
       "      <td>38041.757</td>\n",
       "    </tr>\n",
       "    <tr>\n",
       "      <th>Africa</th>\n",
       "      <td>1308064.176</td>\n",
       "    </tr>\n",
       "    <tr>\n",
       "      <th>African Group</th>\n",
       "      <td>1306320.572</td>\n",
       "    </tr>\n",
       "    <tr>\n",
       "      <th>African Union</th>\n",
       "      <td>1306903.030</td>\n",
       "    </tr>\n",
       "    <tr>\n",
       "      <th>African Union: Central Africa</th>\n",
       "      <td>154013.705</td>\n",
       "    </tr>\n",
       "  </tbody>\n",
       "</table>\n",
       "</div>"
      ],
      "text/plain": [
       "                                  PopTotal\n",
       "Country/Region                            \n",
       "Afghanistan                      38041.757\n",
       "Africa                         1308064.176\n",
       "African Group                  1306320.572\n",
       "African Union                  1306903.030\n",
       "African Union: Central Africa   154013.705"
      ]
     },
     "execution_count": 4,
     "metadata": {},
     "output_type": "execute_result"
    }
   ],
   "source": [
    "# a. Show country names included in the population data set\n",
    "# print(PopTotal.index.values)\n",
    "\n",
    "# b. Rename countries to match with Covid-19 data\n",
    "PopTotal.rename({'United States of America': 'US', \n",
    "                 'Viet Nam': 'Vietnam',\n",
    "                 'Iran (Islamic Republic of)': 'Iran'}, inplace = True) \n",
    "\n",
    "# c. Show the resulting dataframe\n",
    "PopTotal.head()"
   ]
  },
  {
   "cell_type": "code",
   "execution_count": 5,
   "metadata": {},
   "outputs": [],
   "source": [
    "# a. load Covid-19 data\n",
    "df_confirmed = pd.read_csv('https://raw.githubusercontent.com/CSSEGISandData/COVID-19/master/csse_covid_19_data/csse_covid_19_time_series/time_series_covid19_confirmed_global.csv')\n",
    "df_deaths = pd.read_csv('https://raw.githubusercontent.com/CSSEGISandData/COVID-19/master/csse_covid_19_data/csse_covid_19_time_series/time_series_covid19_deaths_global.csv')\n",
    "df_recovered = pd.read_csv('https://raw.githubusercontent.com/CSSEGISandData/COVID-19/master/csse_covid_19_data/csse_covid_19_time_series/time_series_covid19_recovered_global.csv')\n",
    "\n",
    "# b. drop irrelevant columns\n",
    "dfs = [df_confirmed, df_deaths, df_recovered]\n",
    "drop_these = ['Lat', 'Long', 'Province/State']\n",
    "for df in dfs:\n",
    "    df.drop(drop_these, axis=1, inplace=True)\n",
    "    \n",
    "# c. group by country/region (we sum the number of cases across provinces/states)\n",
    "df_confirmed = df_confirmed.groupby('Country/Region').sum()\n",
    "df_deaths = df_deaths.groupby('Country/Region').sum()\n",
    "df_recovered = df_recovered.groupby('Country/Region').sum()"
   ]
  },
  {
   "cell_type": "markdown",
   "metadata": {},
   "source": [
    "The three Covid-19 datasets now look alike. The dataset of confirmed cases looks like this:"
   ]
  },
  {
   "cell_type": "code",
   "execution_count": 6,
   "metadata": {},
   "outputs": [
    {
     "data": {
      "text/html": [
       "<div>\n",
       "<style scoped>\n",
       "    .dataframe tbody tr th:only-of-type {\n",
       "        vertical-align: middle;\n",
       "    }\n",
       "\n",
       "    .dataframe tbody tr th {\n",
       "        vertical-align: top;\n",
       "    }\n",
       "\n",
       "    .dataframe thead th {\n",
       "        text-align: right;\n",
       "    }\n",
       "</style>\n",
       "<table border=\"1\" class=\"dataframe\">\n",
       "  <thead>\n",
       "    <tr style=\"text-align: right;\">\n",
       "      <th></th>\n",
       "      <th>1/22/20</th>\n",
       "      <th>1/23/20</th>\n",
       "      <th>1/24/20</th>\n",
       "      <th>1/25/20</th>\n",
       "      <th>1/26/20</th>\n",
       "      <th>1/27/20</th>\n",
       "      <th>1/28/20</th>\n",
       "      <th>1/29/20</th>\n",
       "      <th>1/30/20</th>\n",
       "      <th>1/31/20</th>\n",
       "      <th>...</th>\n",
       "      <th>4/23/20</th>\n",
       "      <th>4/24/20</th>\n",
       "      <th>4/25/20</th>\n",
       "      <th>4/26/20</th>\n",
       "      <th>4/27/20</th>\n",
       "      <th>4/28/20</th>\n",
       "      <th>4/29/20</th>\n",
       "      <th>4/30/20</th>\n",
       "      <th>5/1/20</th>\n",
       "      <th>5/2/20</th>\n",
       "    </tr>\n",
       "    <tr>\n",
       "      <th>Country/Region</th>\n",
       "      <th></th>\n",
       "      <th></th>\n",
       "      <th></th>\n",
       "      <th></th>\n",
       "      <th></th>\n",
       "      <th></th>\n",
       "      <th></th>\n",
       "      <th></th>\n",
       "      <th></th>\n",
       "      <th></th>\n",
       "      <th></th>\n",
       "      <th></th>\n",
       "      <th></th>\n",
       "      <th></th>\n",
       "      <th></th>\n",
       "      <th></th>\n",
       "      <th></th>\n",
       "      <th></th>\n",
       "      <th></th>\n",
       "      <th></th>\n",
       "      <th></th>\n",
       "    </tr>\n",
       "  </thead>\n",
       "  <tbody>\n",
       "    <tr>\n",
       "      <th>Afghanistan</th>\n",
       "      <td>0</td>\n",
       "      <td>0</td>\n",
       "      <td>0</td>\n",
       "      <td>0</td>\n",
       "      <td>0</td>\n",
       "      <td>0</td>\n",
       "      <td>0</td>\n",
       "      <td>0</td>\n",
       "      <td>0</td>\n",
       "      <td>0</td>\n",
       "      <td>...</td>\n",
       "      <td>1279</td>\n",
       "      <td>1351</td>\n",
       "      <td>1463</td>\n",
       "      <td>1531</td>\n",
       "      <td>1703</td>\n",
       "      <td>1828</td>\n",
       "      <td>1939</td>\n",
       "      <td>2171</td>\n",
       "      <td>2335</td>\n",
       "      <td>2469</td>\n",
       "    </tr>\n",
       "    <tr>\n",
       "      <th>Albania</th>\n",
       "      <td>0</td>\n",
       "      <td>0</td>\n",
       "      <td>0</td>\n",
       "      <td>0</td>\n",
       "      <td>0</td>\n",
       "      <td>0</td>\n",
       "      <td>0</td>\n",
       "      <td>0</td>\n",
       "      <td>0</td>\n",
       "      <td>0</td>\n",
       "      <td>...</td>\n",
       "      <td>663</td>\n",
       "      <td>678</td>\n",
       "      <td>712</td>\n",
       "      <td>726</td>\n",
       "      <td>736</td>\n",
       "      <td>750</td>\n",
       "      <td>766</td>\n",
       "      <td>773</td>\n",
       "      <td>782</td>\n",
       "      <td>789</td>\n",
       "    </tr>\n",
       "    <tr>\n",
       "      <th>Algeria</th>\n",
       "      <td>0</td>\n",
       "      <td>0</td>\n",
       "      <td>0</td>\n",
       "      <td>0</td>\n",
       "      <td>0</td>\n",
       "      <td>0</td>\n",
       "      <td>0</td>\n",
       "      <td>0</td>\n",
       "      <td>0</td>\n",
       "      <td>0</td>\n",
       "      <td>...</td>\n",
       "      <td>3007</td>\n",
       "      <td>3127</td>\n",
       "      <td>3256</td>\n",
       "      <td>3382</td>\n",
       "      <td>3517</td>\n",
       "      <td>3649</td>\n",
       "      <td>3848</td>\n",
       "      <td>4006</td>\n",
       "      <td>4154</td>\n",
       "      <td>4295</td>\n",
       "    </tr>\n",
       "    <tr>\n",
       "      <th>Andorra</th>\n",
       "      <td>0</td>\n",
       "      <td>0</td>\n",
       "      <td>0</td>\n",
       "      <td>0</td>\n",
       "      <td>0</td>\n",
       "      <td>0</td>\n",
       "      <td>0</td>\n",
       "      <td>0</td>\n",
       "      <td>0</td>\n",
       "      <td>0</td>\n",
       "      <td>...</td>\n",
       "      <td>723</td>\n",
       "      <td>731</td>\n",
       "      <td>738</td>\n",
       "      <td>738</td>\n",
       "      <td>743</td>\n",
       "      <td>743</td>\n",
       "      <td>743</td>\n",
       "      <td>745</td>\n",
       "      <td>745</td>\n",
       "      <td>747</td>\n",
       "    </tr>\n",
       "    <tr>\n",
       "      <th>Angola</th>\n",
       "      <td>0</td>\n",
       "      <td>0</td>\n",
       "      <td>0</td>\n",
       "      <td>0</td>\n",
       "      <td>0</td>\n",
       "      <td>0</td>\n",
       "      <td>0</td>\n",
       "      <td>0</td>\n",
       "      <td>0</td>\n",
       "      <td>0</td>\n",
       "      <td>...</td>\n",
       "      <td>25</td>\n",
       "      <td>25</td>\n",
       "      <td>25</td>\n",
       "      <td>26</td>\n",
       "      <td>27</td>\n",
       "      <td>27</td>\n",
       "      <td>27</td>\n",
       "      <td>27</td>\n",
       "      <td>30</td>\n",
       "      <td>35</td>\n",
       "    </tr>\n",
       "  </tbody>\n",
       "</table>\n",
       "<p>5 rows × 102 columns</p>\n",
       "</div>"
      ],
      "text/plain": [
       "                1/22/20  1/23/20  1/24/20  1/25/20  1/26/20  1/27/20  1/28/20  \\\n",
       "Country/Region                                                                  \n",
       "Afghanistan           0        0        0        0        0        0        0   \n",
       "Albania               0        0        0        0        0        0        0   \n",
       "Algeria               0        0        0        0        0        0        0   \n",
       "Andorra               0        0        0        0        0        0        0   \n",
       "Angola                0        0        0        0        0        0        0   \n",
       "\n",
       "                1/29/20  1/30/20  1/31/20  ...  4/23/20  4/24/20  4/25/20  \\\n",
       "Country/Region                             ...                              \n",
       "Afghanistan           0        0        0  ...     1279     1351     1463   \n",
       "Albania               0        0        0  ...      663      678      712   \n",
       "Algeria               0        0        0  ...     3007     3127     3256   \n",
       "Andorra               0        0        0  ...      723      731      738   \n",
       "Angola                0        0        0  ...       25       25       25   \n",
       "\n",
       "                4/26/20  4/27/20  4/28/20  4/29/20  4/30/20  5/1/20  5/2/20  \n",
       "Country/Region                                                               \n",
       "Afghanistan        1531     1703     1828     1939     2171    2335    2469  \n",
       "Albania             726      736      750      766      773     782     789  \n",
       "Algeria            3382     3517     3649     3848     4006    4154    4295  \n",
       "Andorra             738      743      743      743      745     745     747  \n",
       "Angola               26       27       27       27       27      30      35  \n",
       "\n",
       "[5 rows x 102 columns]"
      ]
     },
     "execution_count": 6,
     "metadata": {},
     "output_type": "execute_result"
    }
   ],
   "source": [
    "df_confirmed.head()"
   ]
  },
  {
   "cell_type": "markdown",
   "metadata": {},
   "source": [
    "Now we create three new dataframes where we have the number of Covid-19 cases (confirmed, recovered and deaths) *per capita* (per thousand inhabitants) in each country. We first create a simple function that converts a dataframe to a per-capita dataframe, and then we call this function for each of the three dataframes."
   ]
  },
  {
   "cell_type": "code",
   "execution_count": 7,
   "metadata": {},
   "outputs": [],
   "source": [
    "def per_cap(df, pop = PopTotal):\n",
    "    \"\"\" Convert dataframe to per capita numbers\n",
    "\n",
    "    Args:\n",
    "        df (pd.DataFrame): pandas dataframe \n",
    "        pop (pd.DataFrame): pandas dataframe with population for each country/region\n",
    "        \n",
    "    Returns:\n",
    "        df_per_cap (pd.DataFrame): pandas dataframe converted to per capita numbers (per thousand inhabitants)\n",
    "\n",
    "    \"\"\" \n",
    "    df_per_cap = pd.merge(df, pop, how = 'left', left_index=True, right_index=True)\n",
    "    df_per_cap = df_per_cap.iloc[:,:-1].div(df_per_cap.iloc[:,-1], axis=0)\n",
    "    return df_per_cap"
   ]
  },
  {
   "cell_type": "code",
   "execution_count": 8,
   "metadata": {},
   "outputs": [],
   "source": [
    "# a. creating per-capita dataframes\n",
    "df_confirmed_per_cap = per_cap(df_confirmed)\n",
    "df_recovered_per_cap = per_cap(df_recovered)\n",
    "df_deaths_per_cap = per_cap(df_deaths)"
   ]
  },
  {
   "cell_type": "markdown",
   "metadata": {},
   "source": [
    "The per-capita dataframes now look like this:"
   ]
  },
  {
   "cell_type": "code",
   "execution_count": 9,
   "metadata": {},
   "outputs": [
    {
     "data": {
      "text/html": [
       "<div>\n",
       "<style scoped>\n",
       "    .dataframe tbody tr th:only-of-type {\n",
       "        vertical-align: middle;\n",
       "    }\n",
       "\n",
       "    .dataframe tbody tr th {\n",
       "        vertical-align: top;\n",
       "    }\n",
       "\n",
       "    .dataframe thead th {\n",
       "        text-align: right;\n",
       "    }\n",
       "</style>\n",
       "<table border=\"1\" class=\"dataframe\">\n",
       "  <thead>\n",
       "    <tr style=\"text-align: right;\">\n",
       "      <th></th>\n",
       "      <th>1/22/20</th>\n",
       "      <th>1/23/20</th>\n",
       "      <th>1/24/20</th>\n",
       "      <th>1/25/20</th>\n",
       "      <th>1/26/20</th>\n",
       "      <th>1/27/20</th>\n",
       "      <th>1/28/20</th>\n",
       "      <th>1/29/20</th>\n",
       "      <th>1/30/20</th>\n",
       "      <th>1/31/20</th>\n",
       "      <th>...</th>\n",
       "      <th>4/23/20</th>\n",
       "      <th>4/24/20</th>\n",
       "      <th>4/25/20</th>\n",
       "      <th>4/26/20</th>\n",
       "      <th>4/27/20</th>\n",
       "      <th>4/28/20</th>\n",
       "      <th>4/29/20</th>\n",
       "      <th>4/30/20</th>\n",
       "      <th>5/1/20</th>\n",
       "      <th>5/2/20</th>\n",
       "    </tr>\n",
       "    <tr>\n",
       "      <th>Country/Region</th>\n",
       "      <th></th>\n",
       "      <th></th>\n",
       "      <th></th>\n",
       "      <th></th>\n",
       "      <th></th>\n",
       "      <th></th>\n",
       "      <th></th>\n",
       "      <th></th>\n",
       "      <th></th>\n",
       "      <th></th>\n",
       "      <th></th>\n",
       "      <th></th>\n",
       "      <th></th>\n",
       "      <th></th>\n",
       "      <th></th>\n",
       "      <th></th>\n",
       "      <th></th>\n",
       "      <th></th>\n",
       "      <th></th>\n",
       "      <th></th>\n",
       "      <th></th>\n",
       "    </tr>\n",
       "  </thead>\n",
       "  <tbody>\n",
       "    <tr>\n",
       "      <th>Afghanistan</th>\n",
       "      <td>0.0</td>\n",
       "      <td>0.0</td>\n",
       "      <td>0.0</td>\n",
       "      <td>0.0</td>\n",
       "      <td>0.0</td>\n",
       "      <td>0.0</td>\n",
       "      <td>0.0</td>\n",
       "      <td>0.0</td>\n",
       "      <td>0.0</td>\n",
       "      <td>0.0</td>\n",
       "      <td>...</td>\n",
       "      <td>0.033621</td>\n",
       "      <td>0.035514</td>\n",
       "      <td>0.038458</td>\n",
       "      <td>0.040245</td>\n",
       "      <td>0.044767</td>\n",
       "      <td>0.048052</td>\n",
       "      <td>0.050970</td>\n",
       "      <td>0.057069</td>\n",
       "      <td>0.061380</td>\n",
       "      <td>0.064902</td>\n",
       "    </tr>\n",
       "    <tr>\n",
       "      <th>Albania</th>\n",
       "      <td>0.0</td>\n",
       "      <td>0.0</td>\n",
       "      <td>0.0</td>\n",
       "      <td>0.0</td>\n",
       "      <td>0.0</td>\n",
       "      <td>0.0</td>\n",
       "      <td>0.0</td>\n",
       "      <td>0.0</td>\n",
       "      <td>0.0</td>\n",
       "      <td>0.0</td>\n",
       "      <td>...</td>\n",
       "      <td>0.230135</td>\n",
       "      <td>0.235342</td>\n",
       "      <td>0.247144</td>\n",
       "      <td>0.252003</td>\n",
       "      <td>0.255475</td>\n",
       "      <td>0.260334</td>\n",
       "      <td>0.265888</td>\n",
       "      <td>0.268318</td>\n",
       "      <td>0.271442</td>\n",
       "      <td>0.273872</td>\n",
       "    </tr>\n",
       "    <tr>\n",
       "      <th>Algeria</th>\n",
       "      <td>0.0</td>\n",
       "      <td>0.0</td>\n",
       "      <td>0.0</td>\n",
       "      <td>0.0</td>\n",
       "      <td>0.0</td>\n",
       "      <td>0.0</td>\n",
       "      <td>0.0</td>\n",
       "      <td>0.0</td>\n",
       "      <td>0.0</td>\n",
       "      <td>0.0</td>\n",
       "      <td>...</td>\n",
       "      <td>0.069844</td>\n",
       "      <td>0.072631</td>\n",
       "      <td>0.075628</td>\n",
       "      <td>0.078554</td>\n",
       "      <td>0.081690</td>\n",
       "      <td>0.084756</td>\n",
       "      <td>0.089378</td>\n",
       "      <td>0.093048</td>\n",
       "      <td>0.096486</td>\n",
       "      <td>0.099761</td>\n",
       "    </tr>\n",
       "    <tr>\n",
       "      <th>Andorra</th>\n",
       "      <td>0.0</td>\n",
       "      <td>0.0</td>\n",
       "      <td>0.0</td>\n",
       "      <td>0.0</td>\n",
       "      <td>0.0</td>\n",
       "      <td>0.0</td>\n",
       "      <td>0.0</td>\n",
       "      <td>0.0</td>\n",
       "      <td>0.0</td>\n",
       "      <td>0.0</td>\n",
       "      <td>...</td>\n",
       "      <td>9.371840</td>\n",
       "      <td>9.475540</td>\n",
       "      <td>9.566277</td>\n",
       "      <td>9.566277</td>\n",
       "      <td>9.631089</td>\n",
       "      <td>9.631089</td>\n",
       "      <td>9.631089</td>\n",
       "      <td>9.657014</td>\n",
       "      <td>9.657014</td>\n",
       "      <td>9.682939</td>\n",
       "    </tr>\n",
       "    <tr>\n",
       "      <th>Angola</th>\n",
       "      <td>0.0</td>\n",
       "      <td>0.0</td>\n",
       "      <td>0.0</td>\n",
       "      <td>0.0</td>\n",
       "      <td>0.0</td>\n",
       "      <td>0.0</td>\n",
       "      <td>0.0</td>\n",
       "      <td>0.0</td>\n",
       "      <td>0.0</td>\n",
       "      <td>0.0</td>\n",
       "      <td>...</td>\n",
       "      <td>0.000786</td>\n",
       "      <td>0.000786</td>\n",
       "      <td>0.000786</td>\n",
       "      <td>0.000817</td>\n",
       "      <td>0.000848</td>\n",
       "      <td>0.000848</td>\n",
       "      <td>0.000848</td>\n",
       "      <td>0.000848</td>\n",
       "      <td>0.000943</td>\n",
       "      <td>0.001100</td>\n",
       "    </tr>\n",
       "  </tbody>\n",
       "</table>\n",
       "<p>5 rows × 102 columns</p>\n",
       "</div>"
      ],
      "text/plain": [
       "                1/22/20  1/23/20  1/24/20  1/25/20  1/26/20  1/27/20  1/28/20  \\\n",
       "Country/Region                                                                  \n",
       "Afghanistan         0.0      0.0      0.0      0.0      0.0      0.0      0.0   \n",
       "Albania             0.0      0.0      0.0      0.0      0.0      0.0      0.0   \n",
       "Algeria             0.0      0.0      0.0      0.0      0.0      0.0      0.0   \n",
       "Andorra             0.0      0.0      0.0      0.0      0.0      0.0      0.0   \n",
       "Angola              0.0      0.0      0.0      0.0      0.0      0.0      0.0   \n",
       "\n",
       "                1/29/20  1/30/20  1/31/20  ...   4/23/20   4/24/20   4/25/20  \\\n",
       "Country/Region                             ...                                 \n",
       "Afghanistan         0.0      0.0      0.0  ...  0.033621  0.035514  0.038458   \n",
       "Albania             0.0      0.0      0.0  ...  0.230135  0.235342  0.247144   \n",
       "Algeria             0.0      0.0      0.0  ...  0.069844  0.072631  0.075628   \n",
       "Andorra             0.0      0.0      0.0  ...  9.371840  9.475540  9.566277   \n",
       "Angola              0.0      0.0      0.0  ...  0.000786  0.000786  0.000786   \n",
       "\n",
       "                 4/26/20   4/27/20   4/28/20   4/29/20   4/30/20    5/1/20  \\\n",
       "Country/Region                                                               \n",
       "Afghanistan     0.040245  0.044767  0.048052  0.050970  0.057069  0.061380   \n",
       "Albania         0.252003  0.255475  0.260334  0.265888  0.268318  0.271442   \n",
       "Algeria         0.078554  0.081690  0.084756  0.089378  0.093048  0.096486   \n",
       "Andorra         9.566277  9.631089  9.631089  9.631089  9.657014  9.657014   \n",
       "Angola          0.000817  0.000848  0.000848  0.000848  0.000848  0.000943   \n",
       "\n",
       "                  5/2/20  \n",
       "Country/Region            \n",
       "Afghanistan     0.064902  \n",
       "Albania         0.273872  \n",
       "Algeria         0.099761  \n",
       "Andorra         9.682939  \n",
       "Angola          0.001100  \n",
       "\n",
       "[5 rows x 102 columns]"
      ]
     },
     "execution_count": 9,
     "metadata": {},
     "output_type": "execute_result"
    }
   ],
   "source": [
    "df_confirmed_per_cap.head()"
   ]
  },
  {
   "cell_type": "markdown",
   "metadata": {},
   "source": [
    "**Convert to long format:** We convert the six datasets to long format in order to be able to make an interactive plot. The function `long()` is defined in the file `dataproject.py`."
   ]
  },
  {
   "cell_type": "code",
   "execution_count": 10,
   "metadata": {},
   "outputs": [],
   "source": [
    "deaths_long = dataproject.long(df_deaths, 'deaths')\n",
    "recovered_long = dataproject.long(df_recovered, 'recovered')\n",
    "confirmed_long = dataproject.long(df_confirmed, 'confirmed')\n",
    "\n",
    "deaths_per_cap_long = dataproject.long(df_deaths_per_cap, 'deaths')\n",
    "recovered_per_cap_long = dataproject.long(df_recovered_per_cap, 'recovered')\n",
    "confirmed_per_cap_long = dataproject.long(df_confirmed_per_cap, 'confirmed')"
   ]
  },
  {
   "cell_type": "markdown",
   "metadata": {},
   "source": [
    "# Explore data set"
   ]
  },
  {
   "cell_type": "markdown",
   "metadata": {},
   "source": [
    "**General function to plot data**: We create a general function to plot the data, which we can call in the subsequent interactive plot"
   ]
  },
  {
   "cell_type": "code",
   "execution_count": 11,
   "metadata": {},
   "outputs": [],
   "source": [
    "def plot_covid(per_cap, confirmed, deaths, recovered, confirmed_per_cap, deaths_per_cap, recovered_per_cap, dataset, country_region): \n",
    "    if per_cap == False:            # if per capita is not selected\n",
    "        if dataset == 'Confirmed':  # if the dataset chosen is 'Confirmed'\n",
    "            df = confirmed          # then choose the 'confirmed' dataframe\n",
    "            y = 'confirmed'         # and use data from the column 'confirmed'\n",
    "        elif dataset == 'Deaths':\n",
    "            df = deaths\n",
    "            y = 'deaths'\n",
    "        else:\n",
    "            df = recovered\n",
    "            y = 'recovered'\n",
    "            \n",
    "    else:                           # if per capita is not selected\n",
    "        if dataset == 'Confirmed':\n",
    "            df = confirmed_per_cap\n",
    "            y = 'confirmed'\n",
    "        elif dataset == 'Deaths':\n",
    "            df = deaths_per_cap\n",
    "            y = 'deaths'\n",
    "        else:\n",
    "            df = recovered_per_cap\n",
    "            y = 'recovered'\n",
    "            \n",
    "    I = df['Country/Region'] == country_region\n",
    "    ax = df.loc[I,:].plot(x='date', y=y, style='-o')"
   ]
  },
  {
   "cell_type": "markdown",
   "metadata": {},
   "source": [
    "**Interactive plot with all countries and regions**\n",
    "\n",
    "In this plot, we have created drop-down menus, where you can select the dataset and country/region, you want to look at. By checking the box 'per thousand inhabitants', the graph is plotted per thousand inhabitants in the country chosen - else the absolute number is plotted. This setting can only be chosen for regular countries (i.e. not the Diamond Princess for example), because we only have population data for regular countries included in the UN data set. "
   ]
  },
  {
   "cell_type": "code",
   "execution_count": 12,
   "metadata": {},
   "outputs": [
    {
     "data": {
      "application/vnd.jupyter.widget-view+json": {
       "model_id": "2dbee2eefad8444fbbf2ececcc046752",
       "version_major": 2,
       "version_minor": 0
      },
      "text/plain": [
       "interactive(children=(Checkbox(value=False, description='per thousand inhabitants'), Dropdown(description='Dat…"
      ]
     },
     "metadata": {},
     "output_type": "display_data"
    }
   ],
   "source": [
    "widgets.interact(plot_covid, \n",
    "    \n",
    "    per_cap = widgets.Checkbox(value=False, description='per thousand inhabitants'),\n",
    "    confirmed = widgets.fixed(confirmed_long),\n",
    "    deaths = widgets.fixed(deaths_long),\n",
    "    recovered = widgets.fixed(recovered_long),\n",
    "    confirmed_per_cap = widgets.fixed(confirmed_per_cap_long),\n",
    "    deaths_per_cap = widgets.fixed(deaths_per_cap_long),\n",
    "    recovered_per_cap = widgets.fixed(recovered_per_cap_long),\n",
    "                 \n",
    "    dataset = widgets.Dropdown(description='Dataset', \n",
    "                               options=['Confirmed','Deaths','Recovered']),\n",
    "    country_region = widgets.Dropdown(description='Country/Region', \n",
    "                                    options=confirmed_long['Country/Region'].unique())\n",
    "                 \n",
    "); "
   ]
  },
  {
   "cell_type": "markdown",
   "metadata": {},
   "source": [
    "**Interactive plot with top countries**\n",
    "\n",
    "For simplicity, we now construct a new, similar interactive plot, where we only show the top ten countries - as measured by the number of deaths."
   ]
  },
  {
   "cell_type": "code",
   "execution_count": 13,
   "metadata": {},
   "outputs": [],
   "source": [
    "# a. the total deaths in a country is given by the number of deaths at the latest date:\n",
    "total_deaths = deaths_long.loc[deaths_long['date']==df_deaths.columns[-1]]\n",
    "\n",
    "# b. the top 10 countries with the highest number of deaths\n",
    "top_countries = total_deaths.sort_values(by = 'deaths', ascending=False).head(10)['Country/Region']"
   ]
  },
  {
   "cell_type": "code",
   "execution_count": 14,
   "metadata": {},
   "outputs": [
    {
     "data": {
      "application/vnd.jupyter.widget-view+json": {
       "model_id": "bee879dbccd440469a39c898ad1fa6d2",
       "version_major": 2,
       "version_minor": 0
      },
      "text/plain": [
       "interactive(children=(Checkbox(value=False, description='per thousand inhabitants'), Dropdown(description='Dat…"
      ]
     },
     "metadata": {},
     "output_type": "display_data"
    }
   ],
   "source": [
    "widgets.interact(plot_covid, \n",
    "    \n",
    "    per_cap = widgets.Checkbox(value=False, description='per thousand inhabitants'),\n",
    "    confirmed = widgets.fixed(confirmed_long),\n",
    "    deaths = widgets.fixed(deaths_long),\n",
    "    recovered = widgets.fixed(recovered_long),\n",
    "    confirmed_per_cap = widgets.fixed(confirmed_per_cap_long),\n",
    "    deaths_per_cap = widgets.fixed(deaths_per_cap_long),\n",
    "    recovered_per_cap = widgets.fixed(recovered_per_cap_long),\n",
    "                 \n",
    "    dataset = widgets.Dropdown(description='Dataset', \n",
    "                               options=['Confirmed','Deaths','Recovered']),\n",
    "    country_region = widgets.Dropdown(description='Country/Region', \n",
    "                                    options=top_countries)\n",
    "                 \n",
    "); "
   ]
  },
  {
   "cell_type": "markdown",
   "metadata": {},
   "source": [
    "**Comment of the graph as of April 29th 2020**: From the above plot, we can see that China is affected first - the number of confirmed cases begins to increase around January 21st, and stabilizes around 80.000 in the beginning of March. \n",
    "To compare, Italy gets an approximately exponential growth in the number of confirmed cases from the beginning of March. Other European countries such as France, Spain and Belgium experience a similar exponential growth around the beginning to the mid of March -  a little later than in Italy."
   ]
  },
  {
   "cell_type": "markdown",
   "metadata": {},
   "source": [
    "# Analysis"
   ]
  },
  {
   "cell_type": "markdown",
   "metadata": {},
   "source": [
    "Now we choose to create an interactive plot where we can see the development in the number of deaths for the top ten countries in the same graph. We start by creating the figure for total deaths and then we create the figure for deaths per thousand inhabitants. In the plot it is possible to select and deselect countries to show the development in multiple countries at the same time."
   ]
  },
  {
   "cell_type": "code",
   "execution_count": 15,
   "metadata": {},
   "outputs": [
    {
     "data": {
      "application/vnd.jupyter.widget-view+json": {
       "model_id": "1eee76b440eb4016ad0eeaacc4c091d7",
       "version_major": 2,
       "version_minor": 0
      },
      "text/plain": [
       "interactive(children=(SelectMultiple(description='Country/Region', index=(0, 1, 2, 3, 4, 5, 6, 7, 8, 9), optio…"
      ]
     },
     "metadata": {},
     "output_type": "display_data"
    }
   ],
   "source": [
    "# a. selecting data for deaths for the top ten countries\n",
    "df_deaths_t = df_deaths.transpose()\n",
    "df_deaths_t = df_deaths_t[list(top_countries)]\n",
    "\n",
    "# b. creating graph\n",
    "sel_mul = SelectMultiple(description=\"Country/Region\",options=df_deaths_t.columns,value=list(top_countries),disabled=False)\n",
    "@interact(variables=sel_mul)\n",
    "def plot_multiple(variables):\n",
    "    df_deaths_t[list(variables)].plot()"
   ]
  },
  {
   "cell_type": "code",
   "execution_count": 16,
   "metadata": {},
   "outputs": [
    {
     "data": {
      "application/vnd.jupyter.widget-view+json": {
       "model_id": "6555db322ee147b989405a7802d5c26e",
       "version_major": 2,
       "version_minor": 0
      },
      "text/plain": [
       "interactive(children=(SelectMultiple(description='Country/Region', index=(0, 1, 2, 3, 4, 5, 6, 7, 8, 9), optio…"
      ]
     },
     "metadata": {},
     "output_type": "display_data"
    }
   ],
   "source": [
    "# a. selecting data for deaths per capita for the top ten countries\n",
    "df_deaths_per_cap_t = df_deaths_per_cap.transpose()\n",
    "df_deaths_per_cap_t = df_deaths_per_cap_t[list(top_countries)]\n",
    "\n",
    "# b. creating graph\n",
    "sel_mul = SelectMultiple(description=\"Country/Region\",options=df_deaths_per_cap_t.columns,value=list(top_countries),disabled=False)\n",
    "@interact(variables=sel_mul)\n",
    "def plot_multiple(variables):\n",
    "    df_deaths_per_cap_t[list(variables)].plot()"
   ]
  },
  {
   "cell_type": "markdown",
   "metadata": {},
   "source": [
    "From the above graphs we again see that China is the first country hit and is hit relatively hard quickly in absolute numbers. However as measured relative to the population size the story is different and the graph is almost flat compared to other countries.\n",
    "We further see that the US is right now (as of April 29th) by far the worst hit in terms of absolute numbers (and has superseded Spain and Italy in a short time frame), whereas Belgium tops the list when measured per thousand inhabitants. In both graphs, we see that Italy is badly affected, both in terms of absolute deaths and deaths per thousand inhabitants."
   ]
  },
  {
   "cell_type": "markdown",
   "metadata": {},
   "source": [
    "We now create a table of the number of deaths in the top ten countries as well as the increase since the day before."
   ]
  },
  {
   "cell_type": "code",
   "execution_count": 17,
   "metadata": {},
   "outputs": [
    {
     "data": {
      "text/html": [
       "<div>\n",
       "<style scoped>\n",
       "    .dataframe tbody tr th:only-of-type {\n",
       "        vertical-align: middle;\n",
       "    }\n",
       "\n",
       "    .dataframe tbody tr th {\n",
       "        vertical-align: top;\n",
       "    }\n",
       "\n",
       "    .dataframe thead th {\n",
       "        text-align: right;\n",
       "    }\n",
       "</style>\n",
       "<table border=\"1\" class=\"dataframe\">\n",
       "  <thead>\n",
       "    <tr style=\"text-align: right;\">\n",
       "      <th></th>\n",
       "      <th>Country/Region</th>\n",
       "      <th>date</th>\n",
       "      <th>variable</th>\n",
       "      <th>deaths</th>\n",
       "      <th>diff</th>\n",
       "      <th>diff_pct</th>\n",
       "    </tr>\n",
       "  </thead>\n",
       "  <tbody>\n",
       "    <tr>\n",
       "      <th>19060</th>\n",
       "      <td>US</td>\n",
       "      <td>5/2/20</td>\n",
       "      <td>deaths</td>\n",
       "      <td>66369</td>\n",
       "      <td>1426.0</td>\n",
       "      <td>2.20</td>\n",
       "    </tr>\n",
       "    <tr>\n",
       "      <th>18972</th>\n",
       "      <td>Italy</td>\n",
       "      <td>5/2/20</td>\n",
       "      <td>deaths</td>\n",
       "      <td>28710</td>\n",
       "      <td>474.0</td>\n",
       "      <td>1.68</td>\n",
       "    </tr>\n",
       "    <tr>\n",
       "      <th>19064</th>\n",
       "      <td>United Kingdom</td>\n",
       "      <td>5/2/20</td>\n",
       "      <td>deaths</td>\n",
       "      <td>28205</td>\n",
       "      <td>622.0</td>\n",
       "      <td>2.26</td>\n",
       "    </tr>\n",
       "    <tr>\n",
       "      <th>19044</th>\n",
       "      <td>Spain</td>\n",
       "      <td>5/2/20</td>\n",
       "      <td>deaths</td>\n",
       "      <td>25100</td>\n",
       "      <td>557.0</td>\n",
       "      <td>2.27</td>\n",
       "    </tr>\n",
       "    <tr>\n",
       "      <th>18949</th>\n",
       "      <td>France</td>\n",
       "      <td>5/2/20</td>\n",
       "      <td>deaths</td>\n",
       "      <td>24763</td>\n",
       "      <td>166.0</td>\n",
       "      <td>0.67</td>\n",
       "    </tr>\n",
       "    <tr>\n",
       "      <th>18903</th>\n",
       "      <td>Belgium</td>\n",
       "      <td>5/2/20</td>\n",
       "      <td>deaths</td>\n",
       "      <td>7765</td>\n",
       "      <td>62.0</td>\n",
       "      <td>0.80</td>\n",
       "    </tr>\n",
       "    <tr>\n",
       "      <th>18953</th>\n",
       "      <td>Germany</td>\n",
       "      <td>5/2/20</td>\n",
       "      <td>deaths</td>\n",
       "      <td>6812</td>\n",
       "      <td>76.0</td>\n",
       "      <td>1.13</td>\n",
       "    </tr>\n",
       "    <tr>\n",
       "      <th>18910</th>\n",
       "      <td>Brazil</td>\n",
       "      <td>5/2/20</td>\n",
       "      <td>deaths</td>\n",
       "      <td>6761</td>\n",
       "      <td>349.0</td>\n",
       "      <td>5.44</td>\n",
       "    </tr>\n",
       "    <tr>\n",
       "      <th>18968</th>\n",
       "      <td>Iran</td>\n",
       "      <td>5/2/20</td>\n",
       "      <td>deaths</td>\n",
       "      <td>6156</td>\n",
       "      <td>65.0</td>\n",
       "      <td>1.07</td>\n",
       "    </tr>\n",
       "    <tr>\n",
       "      <th>19008</th>\n",
       "      <td>Netherlands</td>\n",
       "      <td>5/2/20</td>\n",
       "      <td>deaths</td>\n",
       "      <td>5003</td>\n",
       "      <td>94.0</td>\n",
       "      <td>1.91</td>\n",
       "    </tr>\n",
       "  </tbody>\n",
       "</table>\n",
       "</div>"
      ],
      "text/plain": [
       "       Country/Region    date variable  deaths    diff  diff_pct\n",
       "19060              US  5/2/20   deaths   66369  1426.0      2.20\n",
       "18972           Italy  5/2/20   deaths   28710   474.0      1.68\n",
       "19064  United Kingdom  5/2/20   deaths   28205   622.0      2.26\n",
       "19044           Spain  5/2/20   deaths   25100   557.0      2.27\n",
       "18949          France  5/2/20   deaths   24763   166.0      0.67\n",
       "18903         Belgium  5/2/20   deaths    7765    62.0      0.80\n",
       "18953         Germany  5/2/20   deaths    6812    76.0      1.13\n",
       "18910          Brazil  5/2/20   deaths    6761   349.0      5.44\n",
       "18968            Iran  5/2/20   deaths    6156    65.0      1.07\n",
       "19008     Netherlands  5/2/20   deaths    5003    94.0      1.91"
      ]
     },
     "execution_count": 17,
     "metadata": {},
     "output_type": "execute_result"
    }
   ],
   "source": [
    "# a. We create a new dataframe, where we sort by date\n",
    "# and calculate absolute and relative changes since the day before\n",
    "df_long = deaths_long.sort_values(by = ['Country/Region', 'date'])\n",
    "df_long['diff'] = df_long.groupby('Country/Region')['deaths'].diff()\n",
    "df_long['diff_pct'] = df_long.groupby('Country/Region')['deaths'].apply(pd.Series.pct_change)*100\n",
    "df_long = df_long.round(2)\n",
    "\n",
    "# b. We find the total deaths as the number of deaths at the latest date\n",
    "table = df_long.loc[df_long['date']==df_deaths.columns[-1]]\n",
    "table.sort_values(by = 'deaths', ascending=False).head(10)"
   ]
  },
  {
   "cell_type": "markdown",
   "metadata": {},
   "source": [
    "**Comment as of April 29th 2020**: We see that the US has the highest number of deaths the 28th of April and has the highest absolute increase since the day before. China is number 10 on the list, without any increase in deaths. US, UK and Brazil are the countries that experience the highest absolute increase in the number of deaths since the day before. \n",
    "\n",
    "However, when we look at the percentage increase in the number of deaths, we find that Brazil is by far the country that experience the highest percentage growth. As epidemics are exponential by nature, the percentage increase per day is the most relevant measure if we want to predict, which  countries will suffer the most in the future."
   ]
  },
  {
   "cell_type": "markdown",
   "metadata": {},
   "source": [
    "# Conclusion"
   ]
  },
  {
   "cell_type": "markdown",
   "metadata": {},
   "source": [
    "In this project, we have used data on the number of cases of Covid-19. We have constructed graphs depicting the development in the number of confirmed cases, the number of recovered cases and the number of deaths from the Covid-19 virus across countries. We have looked at the top ten countries as measured by the number of deaths and as of April 29th, the US is the fastest growing country in terms of absolute deaths *and* the country that has experienced most deaths in absolute terms. In terms of the number of deaths relative to the population size, Belgium is hit worst, followed by Spain and Italy In terms of relative increase in the number of deaths (which is the relevant measure for a pandemic, that is exponential by nature), Brazil tops the list. "
   ]
  }
 ],
 "metadata": {
  "kernelspec": {
   "display_name": "Python 3",
   "language": "python",
   "name": "python3"
  },
  "language_info": {
   "codemirror_mode": {
    "name": "ipython",
    "version": 3
   },
   "file_extension": ".py",
   "mimetype": "text/x-python",
   "name": "python",
   "nbconvert_exporter": "python",
   "pygments_lexer": "ipython3",
   "version": "3.7.6"
  },
  "toc-autonumbering": true
 },
 "nbformat": 4,
 "nbformat_minor": 4
}
