{
 "cells": [
  {
   "cell_type": "markdown",
   "metadata": {},
   "source": [
    "# Cross-country analysis of the Covid-19 outbreak"
   ]
  },
  {
   "cell_type": "markdown",
   "metadata": {},
   "source": [
    "> **Note the following:** \n",
    "> 1. This is *not* meant to be an example of an actual **data analysis project**, just an example of how to structure such a project.\n",
    "> 1. Remember the general advice on structuring and commenting your code from [lecture 5](https://numeconcopenhagen.netlify.com/lectures/Workflow_and_debugging).\n",
    "> 1. Remember this [guide](https://www.markdownguide.org/basic-syntax/) on markdown and (a bit of) latex.\n",
    "> 1. Turn on automatic numbering by clicking on the small icon on top of the table of contents in the left sidebar.\n",
    "> 1. The `dataproject.py` file includes a function which will be used multiple times in this notebook."
   ]
  },
  {
   "cell_type": "markdown",
   "metadata": {},
   "source": [
    "Imports and set magics:"
   ]
  },
  {
   "cell_type": "code",
   "execution_count": 3,
   "metadata": {},
   "outputs": [
    {
     "name": "stdout",
     "output_type": "stream",
     "text": [
      "The autoreload extension is already loaded. To reload it, use:\n",
      "  %reload_ext autoreload\n"
     ]
    }
   ],
   "source": [
    "import pandas as pd\n",
    "import matplotlib.pyplot as plt\n",
    "import ipywidgets as widgets\n",
    "\n",
    "# autoreload modules when code is run\n",
    "%load_ext autoreload\n",
    "%autoreload 2\n",
    "\n",
    "# local modules\n",
    "import dataproject"
   ]
  },
  {
   "cell_type": "markdown",
   "metadata": {},
   "source": [
    "# Read and clean data\n",
    "\n",
    "We collect data from the \"2019 Novel Coronavirus COVID-19 (2019-nCoV) Data Repository by Johns Hopkins CSSE\", found on GitHub on the following link: https://github.com/CSSEGISandData/COVID-19/tree/master/csse_covid_19_data/csse_covid_19_time_series. We have collected the data on the 26th of March, and the data is read statically - therefore we do *not* have the newest data on the number of Covid-19 cases in this notebook. We use three datasets: The number of confirmed cases, the number of cases resulting in death and the number of cases recovered."
   ]
  },
  {
   "cell_type": "code",
   "execution_count": 4,
   "metadata": {},
   "outputs": [],
   "source": [
    "# a. load data\n",
    "df_confirmed = pd.read_csv(\"time_series_covid19_confirmed_global.csv\")\n",
    "df_deaths = pd.read_csv(\"time_series_covid19_deaths_global.csv\")\n",
    "df_recovered = pd.read_csv(\"time_series_covid19_recovered_global.csv\")\n",
    "\n",
    "# b. drop irrelevant columns\n",
    "dfs = [df_confirmed, df_deaths, df_recovered]\n",
    "drop_these = ['Lat', 'Long', 'Province/State']\n",
    "for df in dfs:\n",
    "    df.drop(drop_these, axis=1, inplace=True)\n",
    "    \n",
    "# c. group by country/region (we sum the number of cases across provinces/states)\n",
    "df_confirmed = df_confirmed.groupby('Country/Region').sum()\n",
    "df_deaths = df_deaths.groupby('Country/Region').sum()\n",
    "df_recovered = df_recovered.groupby('Country/Region').sum()"
   ]
  },
  {
   "cell_type": "markdown",
   "metadata": {},
   "source": [
    "The three datasets now look alike. The dataset of confirmed cases looks like this:"
   ]
  },
  {
   "cell_type": "code",
   "execution_count": 5,
   "metadata": {},
   "outputs": [
    {
     "data": {
      "text/html": [
       "<div>\n",
       "<style scoped>\n",
       "    .dataframe tbody tr th:only-of-type {\n",
       "        vertical-align: middle;\n",
       "    }\n",
       "\n",
       "    .dataframe tbody tr th {\n",
       "        vertical-align: top;\n",
       "    }\n",
       "\n",
       "    .dataframe thead th {\n",
       "        text-align: right;\n",
       "    }\n",
       "</style>\n",
       "<table border=\"1\" class=\"dataframe\">\n",
       "  <thead>\n",
       "    <tr style=\"text-align: right;\">\n",
       "      <th></th>\n",
       "      <th>1/22/20</th>\n",
       "      <th>1/23/20</th>\n",
       "      <th>1/24/20</th>\n",
       "      <th>1/25/20</th>\n",
       "      <th>1/26/20</th>\n",
       "      <th>1/27/20</th>\n",
       "      <th>1/28/20</th>\n",
       "      <th>1/29/20</th>\n",
       "      <th>1/30/20</th>\n",
       "      <th>1/31/20</th>\n",
       "      <th>...</th>\n",
       "      <th>3/16/20</th>\n",
       "      <th>3/17/20</th>\n",
       "      <th>3/18/20</th>\n",
       "      <th>3/19/20</th>\n",
       "      <th>3/20/20</th>\n",
       "      <th>3/21/20</th>\n",
       "      <th>3/22/20</th>\n",
       "      <th>3/23/20</th>\n",
       "      <th>3/24/20</th>\n",
       "      <th>3/25/20</th>\n",
       "    </tr>\n",
       "    <tr>\n",
       "      <th>Country/Region</th>\n",
       "      <th></th>\n",
       "      <th></th>\n",
       "      <th></th>\n",
       "      <th></th>\n",
       "      <th></th>\n",
       "      <th></th>\n",
       "      <th></th>\n",
       "      <th></th>\n",
       "      <th></th>\n",
       "      <th></th>\n",
       "      <th></th>\n",
       "      <th></th>\n",
       "      <th></th>\n",
       "      <th></th>\n",
       "      <th></th>\n",
       "      <th></th>\n",
       "      <th></th>\n",
       "      <th></th>\n",
       "      <th></th>\n",
       "      <th></th>\n",
       "      <th></th>\n",
       "    </tr>\n",
       "  </thead>\n",
       "  <tbody>\n",
       "    <tr>\n",
       "      <th>Afghanistan</th>\n",
       "      <td>0</td>\n",
       "      <td>0</td>\n",
       "      <td>0</td>\n",
       "      <td>0</td>\n",
       "      <td>0</td>\n",
       "      <td>0</td>\n",
       "      <td>0</td>\n",
       "      <td>0</td>\n",
       "      <td>0</td>\n",
       "      <td>0</td>\n",
       "      <td>...</td>\n",
       "      <td>21</td>\n",
       "      <td>22</td>\n",
       "      <td>22</td>\n",
       "      <td>22</td>\n",
       "      <td>24</td>\n",
       "      <td>24</td>\n",
       "      <td>40</td>\n",
       "      <td>40</td>\n",
       "      <td>74</td>\n",
       "      <td>84</td>\n",
       "    </tr>\n",
       "    <tr>\n",
       "      <th>Albania</th>\n",
       "      <td>0</td>\n",
       "      <td>0</td>\n",
       "      <td>0</td>\n",
       "      <td>0</td>\n",
       "      <td>0</td>\n",
       "      <td>0</td>\n",
       "      <td>0</td>\n",
       "      <td>0</td>\n",
       "      <td>0</td>\n",
       "      <td>0</td>\n",
       "      <td>...</td>\n",
       "      <td>51</td>\n",
       "      <td>55</td>\n",
       "      <td>59</td>\n",
       "      <td>64</td>\n",
       "      <td>70</td>\n",
       "      <td>76</td>\n",
       "      <td>89</td>\n",
       "      <td>104</td>\n",
       "      <td>123</td>\n",
       "      <td>146</td>\n",
       "    </tr>\n",
       "    <tr>\n",
       "      <th>Algeria</th>\n",
       "      <td>0</td>\n",
       "      <td>0</td>\n",
       "      <td>0</td>\n",
       "      <td>0</td>\n",
       "      <td>0</td>\n",
       "      <td>0</td>\n",
       "      <td>0</td>\n",
       "      <td>0</td>\n",
       "      <td>0</td>\n",
       "      <td>0</td>\n",
       "      <td>...</td>\n",
       "      <td>54</td>\n",
       "      <td>60</td>\n",
       "      <td>74</td>\n",
       "      <td>87</td>\n",
       "      <td>90</td>\n",
       "      <td>139</td>\n",
       "      <td>201</td>\n",
       "      <td>230</td>\n",
       "      <td>264</td>\n",
       "      <td>302</td>\n",
       "    </tr>\n",
       "    <tr>\n",
       "      <th>Andorra</th>\n",
       "      <td>0</td>\n",
       "      <td>0</td>\n",
       "      <td>0</td>\n",
       "      <td>0</td>\n",
       "      <td>0</td>\n",
       "      <td>0</td>\n",
       "      <td>0</td>\n",
       "      <td>0</td>\n",
       "      <td>0</td>\n",
       "      <td>0</td>\n",
       "      <td>...</td>\n",
       "      <td>2</td>\n",
       "      <td>39</td>\n",
       "      <td>39</td>\n",
       "      <td>53</td>\n",
       "      <td>75</td>\n",
       "      <td>88</td>\n",
       "      <td>113</td>\n",
       "      <td>133</td>\n",
       "      <td>164</td>\n",
       "      <td>188</td>\n",
       "    </tr>\n",
       "    <tr>\n",
       "      <th>Angola</th>\n",
       "      <td>0</td>\n",
       "      <td>0</td>\n",
       "      <td>0</td>\n",
       "      <td>0</td>\n",
       "      <td>0</td>\n",
       "      <td>0</td>\n",
       "      <td>0</td>\n",
       "      <td>0</td>\n",
       "      <td>0</td>\n",
       "      <td>0</td>\n",
       "      <td>...</td>\n",
       "      <td>0</td>\n",
       "      <td>0</td>\n",
       "      <td>0</td>\n",
       "      <td>0</td>\n",
       "      <td>1</td>\n",
       "      <td>2</td>\n",
       "      <td>2</td>\n",
       "      <td>3</td>\n",
       "      <td>3</td>\n",
       "      <td>3</td>\n",
       "    </tr>\n",
       "  </tbody>\n",
       "</table>\n",
       "<p>5 rows × 64 columns</p>\n",
       "</div>"
      ],
      "text/plain": [
       "                1/22/20  1/23/20  1/24/20  1/25/20  1/26/20  1/27/20  1/28/20  \\\n",
       "Country/Region                                                                  \n",
       "Afghanistan           0        0        0        0        0        0        0   \n",
       "Albania               0        0        0        0        0        0        0   \n",
       "Algeria               0        0        0        0        0        0        0   \n",
       "Andorra               0        0        0        0        0        0        0   \n",
       "Angola                0        0        0        0        0        0        0   \n",
       "\n",
       "                1/29/20  1/30/20  1/31/20  ...  3/16/20  3/17/20  3/18/20  \\\n",
       "Country/Region                             ...                              \n",
       "Afghanistan           0        0        0  ...       21       22       22   \n",
       "Albania               0        0        0  ...       51       55       59   \n",
       "Algeria               0        0        0  ...       54       60       74   \n",
       "Andorra               0        0        0  ...        2       39       39   \n",
       "Angola                0        0        0  ...        0        0        0   \n",
       "\n",
       "                3/19/20  3/20/20  3/21/20  3/22/20  3/23/20  3/24/20  3/25/20  \n",
       "Country/Region                                                                 \n",
       "Afghanistan          22       24       24       40       40       74       84  \n",
       "Albania              64       70       76       89      104      123      146  \n",
       "Algeria              87       90      139      201      230      264      302  \n",
       "Andorra              53       75       88      113      133      164      188  \n",
       "Angola                0        1        2        2        3        3        3  \n",
       "\n",
       "[5 rows x 64 columns]"
      ]
     },
     "execution_count": 5,
     "metadata": {},
     "output_type": "execute_result"
    }
   ],
   "source": [
    "df_confirmed.head()"
   ]
  },
  {
   "cell_type": "markdown",
   "metadata": {},
   "source": [
    "**Convert to long format:** We convert the datasets to long format in order to be able to make an interactive plot. The function `long()` is defined in the file `dataproject.py`."
   ]
  },
  {
   "cell_type": "code",
   "execution_count": 6,
   "metadata": {},
   "outputs": [],
   "source": [
    "deaths_long = dataproject.long(df_deaths, 'deaths')\n",
    "recovered_long = dataproject.long(df_recovered, 'recovered')\n",
    "confirmed_long = dataproject.long(df_confirmed, 'confirmed')"
   ]
  },
  {
   "cell_type": "markdown",
   "metadata": {},
   "source": [
    "# Explore data set"
   ]
  },
  {
   "cell_type": "markdown",
   "metadata": {},
   "source": [
    "**General function to plot data**"
   ]
  },
  {
   "cell_type": "code",
   "execution_count": 7,
   "metadata": {},
   "outputs": [],
   "source": [
    "def plot_covid(confirmed, deaths, recovered, dataset, country_region): \n",
    "    \n",
    "    if dataset == 'Confirmed':\n",
    "        df = confirmed\n",
    "        y = 'confirmed'\n",
    "    elif dataset == 'Deaths':\n",
    "        df = deaths\n",
    "        y = 'deaths'\n",
    "    else:\n",
    "        df = recovered\n",
    "        y = 'recovered'\n",
    "    \n",
    "    I = df['Country/Region'] == country_region\n",
    "    ax = df.loc[I,:].plot(x='date', y=y, style='-o')"
   ]
  },
  {
   "cell_type": "markdown",
   "metadata": {},
   "source": [
    "**Interactive plot with all countries and regions**\n",
    "\n",
    "In this plot, we have created drop-down menus, where you can select the dataset and country/region, you want to look at."
   ]
  },
  {
   "cell_type": "code",
   "execution_count": 8,
   "metadata": {},
   "outputs": [
    {
     "data": {
      "application/vnd.jupyter.widget-view+json": {
       "model_id": "51f563b8e520470595f37c4644ce5dd7",
       "version_major": 2,
       "version_minor": 0
      },
      "text/plain": [
       "interactive(children=(Dropdown(description='Dataset', options=('Confirmed', 'Deaths', 'Recovered'), value='Con…"
      ]
     },
     "metadata": {},
     "output_type": "display_data"
    }
   ],
   "source": [
    "widgets.interact(plot_covid, \n",
    "    \n",
    "    confirmed = widgets.fixed(confirmed_long),\n",
    "    deaths = widgets.fixed(deaths_long),\n",
    "    recovered = widgets.fixed(recovered_long),\n",
    "    dataset = widgets.Dropdown(description='Dataset', \n",
    "                               options=['Confirmed','Deaths','Recovered']),\n",
    "    country_region = widgets.Dropdown(description='Country/Region', \n",
    "                                    options=confirmed_long['Country/Region'].unique())\n",
    "                 \n",
    "); "
   ]
  },
  {
   "cell_type": "markdown",
   "metadata": {},
   "source": [
    "**Interactive plot with top countries**\n",
    "\n",
    "For simplicity, we now construct a new, similar interactive plot, where we only show the top ten countries - as measured by the number of deaths."
   ]
  },
  {
   "cell_type": "code",
   "execution_count": 9,
   "metadata": {},
   "outputs": [],
   "source": [
    "# a. the total deaths in a country is given by the number of deaths at the latest date:\n",
    "total_deaths = deaths_long.loc[deaths_long['date']==df_deaths.columns[-1]]\n",
    "\n",
    "# b. the top 10 countries with the highest number of deaths\n",
    "top_countries = total_deaths.sort_values(by = 'deaths', ascending=False).head(10)['Country/Region']"
   ]
  },
  {
   "cell_type": "code",
   "execution_count": 10,
   "metadata": {},
   "outputs": [
    {
     "data": {
      "application/vnd.jupyter.widget-view+json": {
       "model_id": "4f136453e5ef4dffa7ff7f9811c239ec",
       "version_major": 2,
       "version_minor": 0
      },
      "text/plain": [
       "interactive(children=(Dropdown(description='Dataset', options=('Confirmed', 'Deaths', 'Recovered'), value='Con…"
      ]
     },
     "metadata": {},
     "output_type": "display_data"
    }
   ],
   "source": [
    "widgets.interact(plot_covid, \n",
    "    \n",
    "    confirmed = widgets.fixed(confirmed_long),\n",
    "    deaths = widgets.fixed(deaths_long),\n",
    "    recovered = widgets.fixed(recovered_long),\n",
    "    dataset = widgets.Dropdown(description='Dataset', \n",
    "                               options=['Confirmed','Deaths','Recovered']),\n",
    "    country_region = widgets.Dropdown(description='Country/Region', \n",
    "                                    options=top_countries)\n",
    "                 \n",
    "); "
   ]
  },
  {
   "cell_type": "markdown",
   "metadata": {},
   "source": [
    "From the above plot, we can see that China is affected first - the number of confirmed cases begins to increase around January 21st, and stabilizes around 80.000 in the beginning of March. \n",
    "To compare, Italy gets an approximately exponential growth in the number of confirmed cases from the beginning of March. Other European countries such as France, Netherlands and Belgium experience a similar exponential growth around the beginning to the mid of March -  a little later than in Italy.\n",
    "\n",
    "We can also see that China measures the number of recoveries to a higher degree than the remaining countries. Looking at the plot for recoveries in China, it is also very apparent that the number of cases in China is very high, which results in \"nice\", smooth curves."
   ]
  },
  {
   "cell_type": "markdown",
   "metadata": {},
   "source": [
    "# Analysis"
   ]
  },
  {
   "cell_type": "markdown",
   "metadata": {},
   "source": [
    "To get a quick overview of the data, we create a table of the number of deaths in the top ten countries as well as the increase since the day before."
   ]
  },
  {
   "cell_type": "code",
   "execution_count": 11,
   "metadata": {},
   "outputs": [
    {
     "data": {
      "text/html": [
       "<div>\n",
       "<style scoped>\n",
       "    .dataframe tbody tr th:only-of-type {\n",
       "        vertical-align: middle;\n",
       "    }\n",
       "\n",
       "    .dataframe tbody tr th {\n",
       "        vertical-align: top;\n",
       "    }\n",
       "\n",
       "    .dataframe thead th {\n",
       "        text-align: right;\n",
       "    }\n",
       "</style>\n",
       "<table border=\"1\" class=\"dataframe\">\n",
       "  <thead>\n",
       "    <tr style=\"text-align: right;\">\n",
       "      <th></th>\n",
       "      <th>Country/Region</th>\n",
       "      <th>date</th>\n",
       "      <th>variable</th>\n",
       "      <th>deaths</th>\n",
       "      <th>diff</th>\n",
       "      <th>diff_pct</th>\n",
       "    </tr>\n",
       "  </thead>\n",
       "  <tbody>\n",
       "    <tr>\n",
       "      <th>11043</th>\n",
       "      <td>Italy</td>\n",
       "      <td>3/25/20</td>\n",
       "      <td>deaths</td>\n",
       "      <td>7503</td>\n",
       "      <td>683.0</td>\n",
       "      <td>10.014663</td>\n",
       "    </tr>\n",
       "    <tr>\n",
       "      <th>11109</th>\n",
       "      <td>Spain</td>\n",
       "      <td>3/25/20</td>\n",
       "      <td>deaths</td>\n",
       "      <td>3647</td>\n",
       "      <td>839.0</td>\n",
       "      <td>29.878917</td>\n",
       "    </tr>\n",
       "    <tr>\n",
       "      <th>10995</th>\n",
       "      <td>China</td>\n",
       "      <td>3/25/20</td>\n",
       "      <td>deaths</td>\n",
       "      <td>3285</td>\n",
       "      <td>4.0</td>\n",
       "      <td>0.121914</td>\n",
       "    </tr>\n",
       "    <tr>\n",
       "      <th>11039</th>\n",
       "      <td>Iran</td>\n",
       "      <td>3/25/20</td>\n",
       "      <td>deaths</td>\n",
       "      <td>2077</td>\n",
       "      <td>143.0</td>\n",
       "      <td>7.394002</td>\n",
       "    </tr>\n",
       "    <tr>\n",
       "      <th>11020</th>\n",
       "      <td>France</td>\n",
       "      <td>3/25/20</td>\n",
       "      <td>deaths</td>\n",
       "      <td>1333</td>\n",
       "      <td>231.0</td>\n",
       "      <td>20.961887</td>\n",
       "    </tr>\n",
       "    <tr>\n",
       "      <th>11124</th>\n",
       "      <td>US</td>\n",
       "      <td>3/25/20</td>\n",
       "      <td>deaths</td>\n",
       "      <td>942</td>\n",
       "      <td>236.0</td>\n",
       "      <td>33.427762</td>\n",
       "    </tr>\n",
       "    <tr>\n",
       "      <th>11128</th>\n",
       "      <td>United Kingdom</td>\n",
       "      <td>3/25/20</td>\n",
       "      <td>deaths</td>\n",
       "      <td>466</td>\n",
       "      <td>43.0</td>\n",
       "      <td>10.165485</td>\n",
       "    </tr>\n",
       "    <tr>\n",
       "      <th>11076</th>\n",
       "      <td>Netherlands</td>\n",
       "      <td>3/25/20</td>\n",
       "      <td>deaths</td>\n",
       "      <td>357</td>\n",
       "      <td>80.0</td>\n",
       "      <td>28.880866</td>\n",
       "    </tr>\n",
       "    <tr>\n",
       "      <th>11024</th>\n",
       "      <td>Germany</td>\n",
       "      <td>3/25/20</td>\n",
       "      <td>deaths</td>\n",
       "      <td>206</td>\n",
       "      <td>49.0</td>\n",
       "      <td>31.210191</td>\n",
       "    </tr>\n",
       "    <tr>\n",
       "      <th>10978</th>\n",
       "      <td>Belgium</td>\n",
       "      <td>3/25/20</td>\n",
       "      <td>deaths</td>\n",
       "      <td>178</td>\n",
       "      <td>56.0</td>\n",
       "      <td>45.901639</td>\n",
       "    </tr>\n",
       "  </tbody>\n",
       "</table>\n",
       "</div>"
      ],
      "text/plain": [
       "       Country/Region     date variable  deaths   diff   diff_pct\n",
       "11043           Italy  3/25/20   deaths    7503  683.0  10.014663\n",
       "11109           Spain  3/25/20   deaths    3647  839.0  29.878917\n",
       "10995           China  3/25/20   deaths    3285    4.0   0.121914\n",
       "11039            Iran  3/25/20   deaths    2077  143.0   7.394002\n",
       "11020          France  3/25/20   deaths    1333  231.0  20.961887\n",
       "11124              US  3/25/20   deaths     942  236.0  33.427762\n",
       "11128  United Kingdom  3/25/20   deaths     466   43.0  10.165485\n",
       "11076     Netherlands  3/25/20   deaths     357   80.0  28.880866\n",
       "11024         Germany  3/25/20   deaths     206   49.0  31.210191\n",
       "10978         Belgium  3/25/20   deaths     178   56.0  45.901639"
      ]
     },
     "execution_count": 11,
     "metadata": {},
     "output_type": "execute_result"
    }
   ],
   "source": [
    "# a. We create a new dataframe, where we sort by date\n",
    "# and calculate absolute and relative changes since the day before\n",
    "df_long = deaths_long.sort_values(by = ['Country/Region', 'date'])\n",
    "df_long['diff'] = df_long.groupby('Country/Region')['deaths'].diff()\n",
    "df_long['diff_pct'] = df_long.groupby('Country/Region')['deaths'].apply(pd.Series.pct_change)*100\n",
    "\n",
    "# b. We find the total deaths as the number of deaths at the latest date\n",
    "table = df_long.loc[df_long['date']==df_deaths.columns[-1]]\n",
    "table.sort_values(by = 'deaths', ascending=False).head(10)"
   ]
  },
  {
   "cell_type": "markdown",
   "metadata": {},
   "source": [
    "We see that Italy has the highest number of deaths the 25th of March. China is number 3 on the list, but has only 4 more deaths than the day before. Italy and Spain are the countries that experience the highest absolute increase in the number of deaths since the day before. \n",
    "\n",
    "However, when we look at the percentage increase in the number of deaths, we find that Belgium, US and Germany are the countries that experience the highest percentage growth. As epidemics are exponential by nature, the percentage increase per day is the most relevant measure if we want to predict, which  countries will suffer the most."
   ]
  },
  {
   "cell_type": "markdown",
   "metadata": {},
   "source": [
    "# Conclusion"
   ]
  },
  {
   "cell_type": "markdown",
   "metadata": {},
   "source": [
    "In this project, we have used data on the number of cases of Covid-19. We have constructed graphs depicting the development in the number of confirmed cases, the number of recovered cases and the number of deaths from the Covid-19 virus across countries. We have looked at the top ten countries as measured by the number of deaths on the 25th of March 2020 and find that Spain and Italy are the fastest growing countries in terms of absolute deaths. In terms of relative increase in the number of deaths (which is the relevant measure for a pandemic, that is exponential by nature), Belgium, the US and Germany tops the list."
   ]
  }
 ],
 "metadata": {
  "kernelspec": {
   "display_name": "Python 3",
   "language": "python",
   "name": "python3"
  },
  "language_info": {
   "codemirror_mode": {
    "name": "ipython",
    "version": 3
   },
   "file_extension": ".py",
   "mimetype": "text/x-python",
   "name": "python",
   "nbconvert_exporter": "python",
   "pygments_lexer": "ipython3",
   "version": "3.7.6"
  },
  "toc-autonumbering": true
 },
 "nbformat": 4,
 "nbformat_minor": 4
}
