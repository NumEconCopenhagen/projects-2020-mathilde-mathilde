{
 "cells": [
  {
   "cell_type": "markdown",
   "metadata": {},
   "source": [
    "# YOUR PROJECT TITLE"
   ]
  },
  {
   "cell_type": "markdown",
   "metadata": {},
   "source": [
    "> **Note the following:** \n",
    "> 1. This is *not* meant to be an example of an actual **model analysis project**, just an example of how to structure such a project.\n",
    "> 1. Remember the general advice on structuring and commenting your code from [lecture 5](https://numeconcopenhagen.netlify.com/lectures/Workflow_and_debugging).\n",
    "> 1. Remember this [guide](https://www.markdownguide.org/basic-syntax/) on markdown and (a bit of) latex.\n",
    "> 1. Turn on automatic numbering by clicking on the small icon on top of the table of contents in the left sidebar.\n",
    "> 1. The `modelproject.py` file includes a function which could be used multiple times in this notebook."
   ]
  },
  {
   "cell_type": "markdown",
   "metadata": {},
   "source": [
    "Imports and set magics:"
   ]
  },
  {
   "cell_type": "code",
   "execution_count": 7,
   "metadata": {},
   "outputs": [
    {
     "name": "stdout",
     "output_type": "stream",
     "text": [
      "The autoreload extension is already loaded. To reload it, use:\n",
      "  %reload_ext autoreload\n"
     ]
    }
   ],
   "source": [
    "import numpy as np\n",
    "import scipy\n",
    "from scipy import optimize\n",
    "import sympy as sm\n",
    "import matplotlib.pyplot as plt\n",
    "import ipywidgets as widgets\n",
    "\n",
    "\n",
    "# autoreload modules when code is run\n",
    "%load_ext autoreload\n",
    "%autoreload 2\n",
    "\n",
    "# local modules\n",
    "import modelproject"
   ]
  },
  {
   "cell_type": "markdown",
   "metadata": {},
   "source": [
    "# Model description"
   ]
  },
  {
   "cell_type": "markdown",
   "metadata": {},
   "source": [
    "We consider a simple version of the **AS-AD model** where:\n",
    "\n",
    "* $y_t$ is output in period t, $\\bar{y}$ is natural output\n",
    "* $g_t$ is government consumption in period t, $\\bar{g}$ is equilibrium government consumption\n",
    "* $r_t$ is the real interest rate in period t, $\\bar{r}$ is the natural real interest rate\n",
    "* $i_t$ is the nominal interest rate in period t\n",
    "* $\\pi_t$ is inflation in period t, $\\pi^{e}_{t+1}$ is expected inflation in period t+1, $\\pi^*$ is target inflation\n",
    "* $z_t$ is a demand shock, initially assumed to be 0\n",
    "* $s_t$ is a supply shock, initially assumed to be 0\n",
    "\n",
    "\n",
    "The **goods market equilibrium** is stated as:\n",
    "\n",
    "$$ y_t-\\bar{y} = \\alpha_1 (g_t-\\bar{g}) -\\alpha_2(r_t-\\bar{r}) + v_t $$\n",
    "\n",
    "The **Taylor rule** is stated as:\n",
    "\n",
    "$$ i_t = \\bar{r_t} + \\pi^{e}_{t+1}+h(\\pi_t-\\pi^*)+b(y_t-\\bar{y}) $$\n",
    "\n",
    "and the **Fisher equation** is given by:\n",
    "\n",
    "$$r_t=i_t-\\pi^e_{t+1}$$\n",
    "\n",
    "By defining $\\hat{x_t}=x_t-\\bar{x}$ for all variables and $\\hat{\\pi_t}=\\pi_t-\\pi^*$, the **AD curve** then becomes\n",
    "\n",
    "$$ \\hat{y_t} = -\\alpha\\hat{\\pi_t}+z_t $$\n",
    "$$ \\hat{\\pi_t} = -\\frac{1}{\\alpha}\\hat{y_t}+\\frac{1}{\\alpha}z_t $$\n",
    "\n",
    "where:\n",
    "\n",
    "$$ \\alpha \\equiv \\frac{\\alpha_2h}{1+\\alpha_2b}$$ and $$z_t\\equiv \\frac{\\alpha_1\\hat{g_t}+v_t}{1+\\alpha_2b}$$\n",
    "\n",
    "\n",
    "The **SRAS curve** with static expectations is described by:\n",
    "\n",
    "$$\\pi_t = \\pi_{t-1}+\\gamma\\hat{y_t}+s_t$$\n",
    "\n",
    "Subtracting the inflation target from both sides of the equation, we can write the SRAS curve as:\n",
    "\n",
    "$$\\hat{\\pi_t} = \\hat{\\pi_{t-1}}+\\gamma\\hat{y_t}+s_t$$\n"
   ]
  },
  {
   "cell_type": "markdown",
   "metadata": {},
   "source": [
    "# Model setup and symbolic solution\n",
    "We begin by defining the symbols we will use:"
   ]
  },
  {
   "cell_type": "code",
   "execution_count": 2,
   "metadata": {},
   "outputs": [],
   "source": [
    "y_hat = sm.symbols('y^hat_t')\n",
    "pi_hat = sm.symbols('pi^hat_t')\n",
    "pi_hat_last = sm.symbols('pi^hat_t-1')\n",
    "gamma = sm.symbols('gamma')\n",
    "s = sm.symbols('s_t')\n",
    "alpha = sm.symbols('alpha')\n",
    "z = sm.symbols('z_t')"
   ]
  },
  {
   "cell_type": "markdown",
   "metadata": {},
   "source": [
    "Then we define the **AD-curve** and the **SRAS-curve**"
   ]
  },
  {
   "cell_type": "code",
   "execution_count": 3,
   "metadata": {},
   "outputs": [
    {
     "data": {
      "text/latex": [
       "$\\displaystyle \\pi^{hat}_{t} = - \\frac{y^{hat}_{t}}{\\alpha} + \\frac{z_{t}}{\\alpha}$"
      ],
      "text/plain": [
       "Eq(pi^hat_t, -y^hat_t/alpha + z_t/alpha)"
      ]
     },
     "metadata": {},
     "output_type": "display_data"
    },
    {
     "data": {
      "text/latex": [
       "$\\displaystyle \\pi^{hat}_{t} = \\gamma y^{hat}_{t} + \\pi^{hat}_{t-1} + s_{t}$"
      ],
      "text/plain": [
       "Eq(pi^hat_t, gamma*y^hat_t + pi^hat_t-1 + s_t)"
      ]
     },
     "metadata": {},
     "output_type": "display_data"
    }
   ],
   "source": [
    "AD = sm.Eq(pi_hat,(-1/alpha*y_hat+1/alpha*z))\n",
    "SRAS = sm.Eq(pi_hat, (pi_hat_last+gamma*y_hat+s)) \n",
    "display(AD,SRAS)"
   ]
  },
  {
   "cell_type": "markdown",
   "metadata": {},
   "source": [
    "and **solve** AS = AD for $\\hat{\\pi_t}$ and $\\hat{y_t}$:"
   ]
  },
  {
   "cell_type": "code",
   "execution_count": 4,
   "metadata": {},
   "outputs": [
    {
     "data": {
      "image/png": "[encoded data removed]",
      "text/latex": [
       "$\\displaystyle \\left\\{ \\pi^{hat}_{t} : \\frac{\\gamma z_{t} + \\pi^{hat}_{t-1} + s_{t}}{\\alpha \\gamma + 1}, \\  y^{hat}_{t} : \\frac{- \\alpha \\pi^{hat}_{t-1} - \\alpha s_{t} + z_{t}}{\\alpha \\gamma + 1}\\right\\}$"
      ],
      "text/plain": [
       "⎧          γ⋅zₜ + π_t-1__hat + sₜ            -α⋅π_t-1__hat - α⋅sₜ + zₜ⎫\n",
       "⎨π_t__hat: ──────────────────────, y_t__hat: ─────────────────────────⎬\n",
       "⎩                 α⋅γ + 1                             α⋅γ + 1         ⎭"
      ]
     },
     "execution_count": 4,
     "metadata": {},
     "output_type": "execute_result"
    }
   ],
   "source": [
    "sm.init_printing()\n",
    "sol = sm.solve([AD,SRAS],(y_hat,pi_hat))\n",
    "sol"
   ]
  },
  {
   "cell_type": "markdown",
   "metadata": {},
   "source": [
    "We turn the AD and the SRAS curves as well as the equilibrium into functions to use in the plot below:"
   ]
  },
  {
   "cell_type": "code",
   "execution_count": 5,
   "metadata": {},
   "outputs": [],
   "source": [
    "#Redefining the AD and SRAS curves as functions\n",
    "AD_func = sm.lambdify((alpha,y_hat,z), (z-y_hat)/(alpha))\n",
    "SRAS_func = sm.lambdify((gamma,y_hat,pi_hat_last,s), gamma*y_hat+pi_hat_last+s)\n",
    "\n",
    "#Defining the sympy-solution as functions for the equilibrium\n",
    "pi_func = sm.lambdify((alpha,gamma,pi_hat_last,z,s),sol[pi_hat])\n",
    "y_func =  sm.lambdify((alpha,gamma,pi_hat_last,z,s),sol[y_hat])"
   ]
  },
  {
   "cell_type": "markdown",
   "metadata": {},
   "source": [
    "# Plotting the equilibrium"
   ]
  },
  {
   "cell_type": "markdown",
   "metadata": {},
   "source": [
    "Now we set up a plot of the AS and AD curves (and the equilibrium values of $\\hat{\\pi_t}$ and $\\hat{y_t}$):"
   ]
  },
  {
   "cell_type": "code",
   "execution_count": 12,
   "metadata": {},
   "outputs": [
    {
     "data": {
      "application/vnd.jupyter.widget-view+json": {
       "model_id": "196004fa16c74798bae01fe400115222",
       "version_major": 2,
       "version_minor": 0
      },
      "text/plain": [
       "interactive(children=(FloatSlider(value=0.5, description='alpha_1', max=1.0, min=0.001, step=0.01), FloatSlide…"
      ]
     },
     "metadata": {},
     "output_type": "display_data"
    },
    {
     "data": {
      "text/plain": [
       "<function __main__.eq_plot(alpha_1=0.5, alpha_2=0.5, h=0.5, b=0.5, g_hat=0, v=0, gamma=0.5, pi_hat_last=0, s=0)>"
      ]
     },
     "execution_count": 12,
     "metadata": {},
     "output_type": "execute_result"
    }
   ],
   "source": [
    "def eq_plot(alpha_1=0.5,alpha_2=0.5,h=0.5,b=0.5,g_hat=0,v=0,gamma=0.5,pi_hat_last=0,s=0):\n",
    "    #define parameters\n",
    "    alpha = (alpha_2*h)/(1+alpha_2*b)\n",
    "    z = (alpha_1*g_hat+v)/(1+alpha_2*b)\n",
    "    \n",
    "    #plot equilibrium point\n",
    "    pi_star = pi_func(alpha,gamma,pi_hat_last,z,s)\n",
    "    y_star = y_func(alpha,gamma,pi_hat_last,z,s)\n",
    "    plt.plot(y_star,pi_star, marker='o', markersize=5, color=\"red\")\n",
    "    \n",
    "    #plot AS and AD curves\n",
    "    y_hat = np.arange(-10,10, 0.1)\n",
    "    SRAS = SRAS_func(gamma,y_hat,pi_hat_last,s) \n",
    "    AD = AD_func(alpha,y_hat,z) \n",
    "    plt.plot(y_hat,SRAS)\n",
    "    plt.plot(y_hat, AD)\n",
    "    \n",
    "    #set up plot\n",
    "    plt.xlabel('$\\hat{y}_t$')\n",
    "    plt.ylabel('$\\hat{\\pi}_t$')\n",
    "    plt.xlim(-10,10)\n",
    "    plt.ylim(-10,10)\n",
    "    plt.legend([\"equilibrium\",\"SRAS\",\"AD\"])\n",
    "    plt.show()\n",
    "    return [y_star, pi_star]\n",
    "    \n",
    "widgets.interact(eq_plot, \n",
    "                alpha_1 = (0.001,1,0.01),\n",
    "                alpha_2 = (0.001,1,0.01),\n",
    "                h = (0.001,1,0.01),\n",
    "                b = (0.001,1,0.01),\n",
    "                v = (0.001,1,0.01),\n",
    "                g_hat = (0.001,1,0.01),\n",
    "                gamma = (0, 1,0.01),\n",
    "                pi_hat_last = (-1,1,0.01),\n",
    "                z = (-1,1,0.01),\n",
    "                s = (-1,1,0.01))"
   ]
  },
  {
   "cell_type": "code",
   "execution_count": null,
   "metadata": {},
   "outputs": [],
   "source": []
  },
  {
   "cell_type": "code",
   "execution_count": 14,
   "metadata": {},
   "outputs": [],
   "source": [
    "def SRAS(t):\n",
    "    pi_hat = SRAS(t-1)+gamma*y_hat+s\n",
    "    return pi_hat"
   ]
  },
  {
   "cell_type": "code",
   "execution_count": null,
   "metadata": {},
   "outputs": [],
   "source": []
  },
  {
   "cell_type": "markdown",
   "metadata": {},
   "source": [
    "**Lav AD og SRAS til funktioner man kan plotte og lav plot hvor man kan skrue på parameterværdier**"
   ]
  },
  {
   "cell_type": "markdown",
   "metadata": {},
   "source": [
    "**Udvid model med flere parametre / numerical optimization på en eller anden måde**"
   ]
  },
  {
   "cell_type": "markdown",
   "metadata": {},
   "source": [
    "# Steady state"
   ]
  },
  {
   "cell_type": "markdown",
   "metadata": {},
   "source": [
    "## Analytical solution"
   ]
  },
  {
   "cell_type": "markdown",
   "metadata": {},
   "source": [
    "We can use **sympy** to find an analytical expression for the steady state, i.e. solve\n",
    "\n",
    "$$ \\tilde{k}^{\\ast}= \\frac{1}{(1+n)(1+g)}[sf(\\tilde{k}^{\\ast})+(1-\\delta)\\tilde{k}^{\\ast}] $$"
   ]
  },
  {
   "cell_type": "markdown",
   "metadata": {},
   "source": [
    "First we define all **symbols**:"
   ]
  },
  {
   "cell_type": "code",
   "execution_count": 2,
   "metadata": {},
   "outputs": [],
   "source": [
    "k = sm.symbols('k')\n",
    "alpha = sm.symbols('alpha')\n",
    "delta = sm.symbols('delta')\n",
    "s = sm.symbols('s')\n",
    "g = sm.symbols('g')\n",
    "n = sm.symbols('n')"
   ]
  },
  {
   "cell_type": "markdown",
   "metadata": {},
   "source": [
    "Then we define the **steady state equation**"
   ]
  },
  {
   "cell_type": "code",
   "execution_count": 3,
   "metadata": {},
   "outputs": [],
   "source": [
    "ss = sm.Eq(k,(s*k**alpha+(1-delta)*k)/((1+n)*(1+g)))"
   ]
  },
  {
   "cell_type": "markdown",
   "metadata": {},
   "source": [
    "and **solve** it"
   ]
  },
  {
   "cell_type": "code",
   "execution_count": 4,
   "metadata": {},
   "outputs": [
    {
     "data": {
      "text/latex": [
       "$\\displaystyle \\left(\\frac{\\delta + g n + g + n}{s}\\right)^{\\frac{1}{\\alpha - 1}}$"
      ],
      "text/plain": [
       "((delta + g*n + g + n)/s)**(1/(alpha - 1))"
      ]
     },
     "execution_count": 4,
     "metadata": {},
     "output_type": "execute_result"
    }
   ],
   "source": [
    "kss = sm.solve(ss,k)[0]\n",
    "kss"
   ]
  },
  {
   "cell_type": "markdown",
   "metadata": {},
   "source": [
    "For later use, we turn the solution into a **Python funciton**"
   ]
  },
  {
   "cell_type": "code",
   "execution_count": 5,
   "metadata": {},
   "outputs": [],
   "source": [
    "ss_func = sm.lambdify((s,g,n,alpha,delta),kss)"
   ]
  },
  {
   "cell_type": "markdown",
   "metadata": {},
   "source": [
    "## Numerical solution"
   ]
  },
  {
   "cell_type": "markdown",
   "metadata": {},
   "source": [
    "We can re-write the equation for the steady state capital per capita as\n",
    "\n",
    "\\\\[ 0 = \\frac{1}{(1+n)(1+g)}[sf(\\tilde{k}^{\\ast})+(1-\\delta)\\tilde{k}^{\\ast}] - \\tilde{k}^{\\ast} \\\\]\n",
    "\n",
    "whereby it clearly becomes a **root-finding problem**. Such a problem can be solved by a **bisection method**."
   ]
  },
  {
   "cell_type": "markdown",
   "metadata": {},
   "source": [
    "Define the model **parameters**:"
   ]
  },
  {
   "cell_type": "code",
   "execution_count": 6,
   "metadata": {},
   "outputs": [],
   "source": [
    "s = 0.2\n",
    "g = 0.02\n",
    "n = 0.01\n",
    "alpha = 1/3\n",
    "delta = 0.1"
   ]
  },
  {
   "cell_type": "markdown",
   "metadata": {},
   "source": [
    "**Solve numerically** for the steady state:"
   ]
  },
  {
   "cell_type": "code",
   "execution_count": 7,
   "metadata": {},
   "outputs": [
    {
     "name": "stdout",
     "output_type": "stream",
     "text": [
      "analytical solution is: 1.904\n",
      " numerical solution is: 1.904\n"
     ]
    }
   ],
   "source": [
    "solution = modelproject.solve_for_ss(s,g,n,alpha,delta)\n",
    "\n",
    "print(f'analytical solution is: {ss_func(s,g,n,alpha,delta):.3f}')\n",
    "print(f' numerical solution is: {solution.root:.3f}')"
   ]
  },
  {
   "cell_type": "markdown",
   "metadata": {},
   "source": [
    "# Further analysis"
   ]
  },
  {
   "cell_type": "markdown",
   "metadata": {},
   "source": [
    "ADD FURTHER ANALYSIS, VISUALIZATIONS AND EXTENSIONS."
   ]
  },
  {
   "cell_type": "markdown",
   "metadata": {},
   "source": [
    "# Conclusion"
   ]
  },
  {
   "cell_type": "markdown",
   "metadata": {},
   "source": [
    "ADD CONCISE CONCLUSION."
   ]
  }
 ],
 "metadata": {
  "kernelspec": {
   "display_name": "Python 3",
   "language": "python",
   "name": "python3"
  },
  "language_info": {
   "codemirror_mode": {
    "name": "ipython",
    "version": 3
   },
   "file_extension": ".py",
   "mimetype": "text/x-python",
   "name": "python",
   "nbconvert_exporter": "python",
   "pygments_lexer": "ipython3",
   "version": "3.7.6"
  },
  "toc-autonumbering": true
 },
 "nbformat": 4,
 "nbformat_minor": 4
}
