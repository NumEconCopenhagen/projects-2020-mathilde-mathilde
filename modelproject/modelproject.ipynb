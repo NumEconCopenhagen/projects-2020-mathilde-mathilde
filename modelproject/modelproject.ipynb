{
 "cells": [
  {
   "cell_type": "markdown",
   "metadata": {},
   "source": [
    "# YOUR PROJECT TITLE"
   ]
  },
  {
   "cell_type": "markdown",
   "metadata": {},
   "source": [
    "> **Note the following:** \n",
    "> 1. This is *not* meant to be an example of an actual **model analysis project**, just an example of how to structure such a project.\n",
    "> 1. Remember the general advice on structuring and commenting your code from [lecture 5](https://numeconcopenhagen.netlify.com/lectures/Workflow_and_debugging).\n",
    "> 1. Remember this [guide](https://www.markdownguide.org/basic-syntax/) on markdown and (a bit of) latex.\n",
    "> 1. Turn on automatic numbering by clicking on the small icon on top of the table of contents in the left sidebar.\n",
    "> 1. The `modelproject.py` file includes a function which could be used multiple times in this notebook."
   ]
  },
  {
   "cell_type": "markdown",
   "metadata": {},
   "source": [
    "Imports and set magics:"
   ]
  },
  {
   "cell_type": "code",
   "execution_count": 1,
   "metadata": {},
   "outputs": [],
   "source": [
    "import numpy as np\n",
    "import scipy\n",
    "from scipy import optimize\n",
    "import sympy as sm\n",
    "import matplotlib.pyplot as plt\n",
    "plt.style.use('seaborn')\n",
    "import ipywidgets as widgets\n",
    "\n",
    "\n",
    "# autoreload modules when code is run\n",
    "%load_ext autoreload\n",
    "%autoreload 2\n",
    "\n",
    "# local modules\n",
    "import modelproject"
   ]
  },
  {
   "cell_type": "markdown",
   "metadata": {},
   "source": [
    "# Model description"
   ]
  },
  {
   "cell_type": "markdown",
   "metadata": {},
   "source": [
    "We consider a simple version of the **AS-AD model** where:\n",
    "\n",
    "* $y_t$ is output in period t, $\\bar{y}$ is natural output\n",
    "* $g_t$ is government consumption in period t, $\\bar{g}$ is equilibrium government consumption\n",
    "* $r_t$ is the real interest rate in period t, $\\bar{r}$ is the natural real interest rate\n",
    "* $i_t$ is the nominal interest rate in period t\n",
    "* $\\pi_t$ is inflation in period t, $\\pi^{e}_{t+1}$ is expected inflation in period t+1, $\\pi^*$ is target inflation\n",
    "* $z_t$ is a demand shock, initially assumed to be 0\n",
    "* $s_t$ is a supply shock, initially assumed to be 0\n",
    "\n",
    "\n",
    "The **goods market equilibrium** is stated as:\n",
    "\n",
    "$$ y_t-\\bar{y} = \\alpha_1 (g_t-\\bar{g}) -\\alpha_2(r_t-\\bar{r}) + v_t $$\n",
    "\n",
    "The **Taylor rule** is stated as:\n",
    "\n",
    "$$ i_t = \\bar{r_t} + \\pi^{e}_{t+1}+h(\\pi_t-\\pi^*)+b(y_t-\\bar{y}) $$\n",
    "\n",
    "and the **Fisher equation** is given by:\n",
    "\n",
    "$$r_t=i_t-\\pi^e_{t+1}$$\n",
    "\n",
    "By defining $\\hat{x_t}=x_t-\\bar{x}$ for all variables and $\\hat{\\pi_t}=\\pi_t-\\pi^*$, the **AD curve** then becomes\n",
    "\n",
    "$$ \\hat{y_t} = -\\alpha\\hat{\\pi_t}+z_t $$\n",
    "$$ \\hat{\\pi_t} = -\\frac{1}{\\alpha}\\hat{y_t}+\\frac{1}{\\alpha}z_t $$\n",
    "\n",
    "where:\n",
    "\n",
    "$$ \\alpha \\equiv \\frac{\\alpha_2h}{1+\\alpha_2b}$$ and $$z_t\\equiv \\frac{\\alpha_1\\hat{g_t}+v_t}{1+\\alpha_2b}$$\n",
    "\n",
    "\n",
    "The **SRAS curve** with static expectations is described by:\n",
    "\n",
    "$$\\pi_t = \\pi_{t-1}+\\gamma\\hat{y_t}+s_t$$\n",
    "\n",
    "Subtracting the inflation target from both sides of the equation, we can write the SRAS curve as:\n",
    "\n",
    "$$\\hat{\\pi_t} = \\hat{\\pi_{t-1}}+\\gamma\\hat{y_t}+s_t$$\n"
   ]
  },
  {
   "cell_type": "markdown",
   "metadata": {},
   "source": [
    "# Model setup and symbolic solution\n",
    "We begin by defining the symbols we will use:"
   ]
  },
  {
   "cell_type": "code",
   "execution_count": 2,
   "metadata": {},
   "outputs": [],
   "source": [
    "y_hat = sm.symbols('y^hat_t')\n",
    "pi_hat = sm.symbols('pi^hat_t')\n",
    "pi_hat_last = sm.symbols('pi^hat_t-1')\n",
    "gamma = sm.symbols('gamma')\n",
    "s = sm.symbols('s_t')\n",
    "alpha = sm.symbols('alpha')\n",
    "z = sm.symbols('z_t')"
   ]
  },
  {
   "cell_type": "markdown",
   "metadata": {},
   "source": [
    "Then we define the **AD-curve** and the **SRAS-curve**"
   ]
  },
  {
   "cell_type": "code",
   "execution_count": 3,
   "metadata": {},
   "outputs": [
    {
     "data": {
      "text/latex": [
       "$\\displaystyle \\pi^{hat}_{t} = - \\frac{y^{hat}_{t}}{\\alpha} + \\frac{z_{t}}{\\alpha}$"
      ],
      "text/plain": [
       "Eq(pi^hat_t, -y^hat_t/alpha + z_t/alpha)"
      ]
     },
     "metadata": {},
     "output_type": "display_data"
    },
    {
     "data": {
      "text/latex": [
       "$\\displaystyle \\pi^{hat}_{t} = \\gamma y^{hat}_{t} + \\pi^{hat}_{t-1} + s_{t}$"
      ],
      "text/plain": [
       "Eq(pi^hat_t, gamma*y^hat_t + pi^hat_t-1 + s_t)"
      ]
     },
     "metadata": {},
     "output_type": "display_data"
    }
   ],
   "source": [
    "AD = sm.Eq(pi_hat,(-1/alpha*y_hat+1/alpha*z))\n",
    "SRAS = sm.Eq(pi_hat, (pi_hat_last+gamma*y_hat+s)) \n",
    "display(AD,SRAS)"
   ]
  },
  {
   "cell_type": "markdown",
   "metadata": {},
   "source": [
    "and **solve** AS = AD for $\\hat{\\pi_t}$ and $\\hat{y_t}$:"
   ]
  },
  {
   "cell_type": "code",
   "execution_count": 4,
   "metadata": {},
   "outputs": [
    {
     "data": {
      "image/png": "[encoded data removed]",
      "text/latex": [
       "$\\displaystyle \\left\\{ \\pi^{hat}_{t} : \\frac{\\gamma z_{t} + \\pi^{hat}_{t-1} + s_{t}}{\\alpha \\gamma + 1}, \\  y^{hat}_{t} : \\frac{- \\alpha \\pi^{hat}_{t-1} - \\alpha s_{t} + z_{t}}{\\alpha \\gamma + 1}\\right\\}$"
      ],
      "text/plain": [
       "⎧          γ⋅zₜ + π_t-1__hat + sₜ            -α⋅π_t-1__hat - α⋅sₜ + zₜ⎫\n",
       "⎨π_t__hat: ──────────────────────, y_t__hat: ─────────────────────────⎬\n",
       "⎩                 α⋅γ + 1                             α⋅γ + 1         ⎭"
      ]
     },
     "execution_count": 4,
     "metadata": {},
     "output_type": "execute_result"
    }
   ],
   "source": [
    "sm.init_printing()\n",
    "sol = sm.solve([AD,SRAS],(y_hat,pi_hat))\n",
    "sol"
   ]
  },
  {
   "cell_type": "markdown",
   "metadata": {},
   "source": [
    "We turn the AD and the SRAS curves as well as the equilibrium into functions to use in the plot below:"
   ]
  },
  {
   "cell_type": "code",
   "execution_count": 5,
   "metadata": {},
   "outputs": [],
   "source": [
    "#Redefining the AD and SRAS curves as functions\n",
    "AD_func = sm.lambdify((alpha,y_hat,z), (z-y_hat)/(alpha))\n",
    "SRAS_func = sm.lambdify((gamma,y_hat,pi_hat_last,s), gamma*y_hat+pi_hat_last+s)\n",
    "\n",
    "#Defining the sympy-solution as functions for the equilibrium\n",
    "pi_func = sm.lambdify((alpha,gamma,pi_hat_last,z,s),sol[pi_hat])\n",
    "y_func =  sm.lambdify((alpha,gamma,pi_hat_last,z,s),sol[y_hat])"
   ]
  },
  {
   "cell_type": "markdown",
   "metadata": {},
   "source": [
    "# Plotting the equilibrium"
   ]
  },
  {
   "cell_type": "markdown",
   "metadata": {},
   "source": [
    "Now we set up a plot of the AS and AD curves (and the equilibrium values of $\\hat{\\pi_t}$ and $\\hat{y_t}$):"
   ]
  },
  {
   "cell_type": "code",
   "execution_count": 6,
   "metadata": {},
   "outputs": [
    {
     "data": {
      "application/vnd.jupyter.widget-view+json": {
       "model_id": "58011de1e8fa4fd4a52f4123f3534b01",
       "version_major": 2,
       "version_minor": 0
      },
      "text/plain": [
       "interactive(children=(FloatSlider(value=0.5, description='alpha_1', max=1.0, min=0.001, step=0.01), FloatSlide…"
      ]
     },
     "metadata": {},
     "output_type": "display_data"
    },
    {
     "data": {
      "text/plain": [
       "<function __main__.eq_plot(alpha_1=0.5, alpha_2=0.5, h=0.5, b=0.5, g_hat=0, v=0, gamma=0.5, pi_hat_last=0, s=0)>"
      ]
     },
     "execution_count": 6,
     "metadata": {},
     "output_type": "execute_result"
    }
   ],
   "source": [
    "def eq_plot(alpha_1=0.5,alpha_2=0.5,h=0.5,b=0.5,g_hat=0,v=0,gamma=0.5,pi_hat_last=0,s=0):\n",
    "    \"\"\" function to plot AD curve, SRAS curve and equilibrium given parameters\n",
    "    \n",
    "    Args:\n",
    "    \n",
    "        alpha_1 (float): parameter, goods market sensitivity to  changes in government consumption. Assumed to be positive.\n",
    "        alpha_2 (float): parameter, goods market sensitivity to  changes in the real interest rate. Assumed to be positive.\n",
    "        h (float): parameter, monetary policy rule (inflation gap sensitivity). Assumed to be positive.\n",
    "        b (float): parameter, monetary policy rule (output gap sensitivity). Assumed to be positive.\n",
    "        g_hat (float): deviation in government consumption from the equilibrium\n",
    "        v (float): demand shock\n",
    "        gamma (float): parameter, slope of the SRAS curve. Assumed to be positive.\n",
    "        pi_hat_last (float): inflation gap in last period \n",
    "        s (float): supply shock\n",
    "    \n",
    "    Returns:\n",
    "        [y_star, pi_star] (coordinate): equilibrium output gap and inflation gap given parameters\n",
    "    \"\"\"\n",
    "\n",
    "    # a. define parameters\n",
    "    alpha = (alpha_2*h)/(1+alpha_2*b)\n",
    "    z = (alpha_1*g_hat+v)/(1+alpha_2*b)\n",
    "    \n",
    "    # b. plot equilibrium point\n",
    "    pi_star = pi_func(alpha,gamma,pi_hat_last,z,s)\n",
    "    y_star = y_func(alpha,gamma,pi_hat_last,z,s)\n",
    "    plt.plot(y_star,pi_star, marker='o', markersize=5, color=\"k\")\n",
    "    \n",
    "    # c. plot AS and AD curves\n",
    "    y_hat = np.arange(-10,10, 0.1)\n",
    "    SRAS = SRAS_func(gamma,y_hat,pi_hat_last,s) \n",
    "    AD = AD_func(alpha,y_hat,z) \n",
    "    plt.plot(y_hat,SRAS)\n",
    "    plt.plot(y_hat, AD)\n",
    "    \n",
    "    # d. set up plot\n",
    "    plt.xlabel('$\\hat{y}_t$')\n",
    "    plt.ylabel('$\\hat{\\pi}_t$')\n",
    "    plt.xlim(-5,5)\n",
    "    plt.ylim(-5,5)\n",
    "    plt.legend([\"equilibrium\",\"SRAS\",\"AD\"])\n",
    "    plt.show()\n",
    "    return [y_star, pi_star]\n",
    "    \n",
    "widgets.interact(eq_plot, \n",
    "                alpha_1 = (0.001,1,0.01),\n",
    "                alpha_2 = (0.001,1,0.01),\n",
    "                h = (0.001,1,0.01),\n",
    "                b = (0.001,1,0.01),\n",
    "                v = (0.001,1,0.01),\n",
    "                g_hat = (0.001,1,0.01),\n",
    "                gamma = (0, 1,0.01),\n",
    "                pi_hat_last = (-1,1,0.01),\n",
    "                z = (-1,1,0.01),\n",
    "                s = (-1,1,0.01))"
   ]
  },
  {
   "cell_type": "markdown",
   "metadata": {},
   "source": [
    "From the above plot we see how the AD curve, the SRAS curve and the equilibrium change when we change parameters values. As is apparent from the model setup: \n",
    "\n",
    "* $\\alpha_1$ is the goods market sensitivity to  changes in government consumption\n",
    "* $\\alpha_2$ is the goods market sensitivity to  changes in the real interest rate\n",
    "* $h$ and $b$ are parameters from the monetary policy rule, $h$ is sensitivity to inflation gap, $b$ is sensitivity to output gap\n",
    "* $\\hat{g}$ is the deviation in government consumption from the equilibrium\n",
    "* $v$ is a demand shock\n",
    "* $\\gamma$ is the slope of the SRAS curve\n",
    "* $\\hat{\\pi_{t-1}}$ is the inflation gap in last period\n",
    "* $s$ is a supply shock\n",
    "\n",
    "Changing the parameters thus result in the expected changes in the curves and resulting equilibrium. Bear in mind that the plot is for a single given period and that all changes in parameters (or lagged inflation) are shown holding all else constant. Therefore, imposing a supply shock (for example) and removing it again will *not* show the convergence to equilibrium after a temporary shock. To show this, we will simulate the model below.\n"
   ]
  },
  {
   "cell_type": "markdown",
   "metadata": {},
   "source": [
    "# Simulation\n",
    "Now we want to simulate the model to see how the output gap and inflation gap are affected by temporary shocks to the economy. We therefore set up the model with a set of parameters and impose a shock. We assume that shocks to supply and demand follow AR(1) processes:\n",
    "\n",
    "$$v_t = \\delta v_{t-1} + x_t$$\n",
    "$$s_t = \\omega s_{t-1} + c_t$$\n",
    "\n",
    "where $x_t$ is an exogenous shock to demand and $c_t$ is an exogenous shock to supply. We assume that these shocks are white noise, such that:\n",
    "\n",
    "$$x_t \\sim N(0,\\sigma^2_x)$$\n",
    "$$c_t \\sim N(0,\\sigma^2_c)$$\n",
    "\n",
    "We choose to impose a random shock to either demand or supply in period 1 and set all subsequent shocks to zero. This is in order to see the effect of a single shock.\n",
    "\n",
    "We begin by specifying the parameters in the model:"
   ]
  },
  {
   "cell_type": "code",
   "execution_count": 7,
   "metadata": {},
   "outputs": [],
   "source": [
    "# a. specify parameters\n",
    "parameters = {'alpha_1':0.5,\n",
    "             'alpha_2':0.5,\n",
    "             'g_hat':0,\n",
    "             'h':0.5,\n",
    "             'b':0.5,\n",
    "             'gamma':0.5,\n",
    "             'delta':0.8,\n",
    "             'omega':0.15,\n",
    "             'sigma_x':3.5,\n",
    "             'sigma_c':3.5}\n",
    "\n",
    "# b. calculate the defined alpha-parameter from given parameters\n",
    "parameters['alpha'] = (parameters['alpha_2']*parameters['h'])/(1+parameters['alpha_2']*parameters['b'])"
   ]
  },
  {
   "cell_type": "markdown",
   "metadata": {},
   "source": [
    "We then define a function to simulate the model with stochastic shocks to supply or demand. By setting supply_shock=True or demand_shock=True, a stochastic shock is imposed in period 1 (by drawing a random number from the distribution of $x_t$ or $c_t$). The shock is removed for all subsequent periods, that is $x_t=c_t=0 \\quad \\forall t>1$. Thus, in the periods $t>1$, the remaining shocks in $v_t$ and $s_t$ is from their autoregressive nature, so the shocks die out naturally over time. As we have set $\\delta=0.8$ and $\\omega=0.15$, shocks to demand (to $v_t$) die out faster than shocks to supply (to $s_t$)."
   ]
  },
  {
   "cell_type": "code",
   "execution_count": 8,
   "metadata": {},
   "outputs": [],
   "source": [
    "def simulate(parameters,T,supply_shock=False, demand_shock=True):\n",
    "    \"\"\" set up and run simulation with shock(s) in period 1\n",
    "    \n",
    "    Args:\n",
    "    \n",
    "        parameters (dict): model parameters\n",
    "        T (int): number of periods to simulate\n",
    "    \n",
    "    Returns:\n",
    "        sim (dict): results of simulation, parameters in T simulated periods\n",
    "    \"\"\"\n",
    "    # a. set seed\n",
    "    np.random.seed(1234)\n",
    "\n",
    "    # b. allocate memory\n",
    "    sim = {'y': np.zeros(T),\n",
    "          'pi': np.zeros(T),\n",
    "          'v': np.zeros(T),\n",
    "          's': np.zeros(T),\n",
    "          'z': np.zeros(T),\n",
    "          'x':np.zeros(T),\n",
    "          'c':np.zeros(T)}\n",
    "\n",
    "    # c. draw random shock in period 1\n",
    "    if supply_shock == True:\n",
    "        sim['c'][1] = np.random.normal(loc=0,scale=parameters['sigma_c'])\n",
    "    else:\n",
    "        pass\n",
    "    \n",
    "    if demand_shock == True:\n",
    "        sim['x'][1] = np.random.normal(loc=0,scale=parameters['sigma_x'])\n",
    "    else:\n",
    "        pass\n",
    "        \n",
    "    for t in range(1,T):\n",
    "        \n",
    "        # i. impose shocks\n",
    "        sim['v'][t] = parameters['delta']*sim['v'][t-1] + sim['x'][t]\n",
    "        sim['s'][t] = parameters['omega']*sim['s'][t-1] + sim['c'][t]\n",
    "        \n",
    "        # ii. calculate z parameter from shocks\n",
    "        sim['z'][t] = (parameters['alpha_1']*parameters['g_hat']+sim['v'][t])/(1+parameters['alpha_2']*parameters['b'])\n",
    "        \n",
    "        # iii. calculate output\n",
    "        sim['y'][t] = y_func(parameters['alpha'],parameters['gamma'],sim['pi'][t-1],sim['z'][t],sim['s'][t])\n",
    "        \n",
    "        # iv. calculate inflation\n",
    "        sim['pi'][t] = pi_func(parameters['alpha'],parameters['gamma'],sim['pi'][t-1],sim['z'][t],sim['s'][t])\n",
    "    \n",
    "    return sim"
   ]
  },
  {
   "cell_type": "markdown",
   "metadata": {},
   "source": [
    "We run the model for 101 periods. The model starts in period 0 and in period 1 a supply shock is imposed. We plot the values of the output gap and the inflation gap in all the simulated periods below."
   ]
  },
  {
   "cell_type": "code",
   "execution_count": 9,
   "metadata": {},
   "outputs": [],
   "source": [
    "# Simulation\n",
    "T=101\n",
    "sim = simulate(parameters,T, supply_shock=False, demand_shock = True)"
   ]
  },
  {
   "cell_type": "code",
   "execution_count": 10,
   "metadata": {},
   "outputs": [
    {
     "data": {
      "image/png": "[encoded data removed]",
      "text/plain": [
       "<Figure size 576x396 with 1 Axes>"
      ]
     },
     "metadata": {},
     "output_type": "display_data"
    }
   ],
   "source": [
    "fig = plt.figure()\n",
    "ax = fig.add_subplot(1,1,1)\n",
    "ax.plot(sim['y'][1:],sim['pi'][1:],ls='-',marker='o')\n",
    "ax.set_xlabel('$\\hat{y_t}$')\n",
    "ax.set_ylabel('$\\hat{\\pi_t}$');\n",
    "for i in range(1,7):\n",
    "    ax.text(sim['y'][i],sim['pi'][i]+0.03,f't = {i}')"
   ]
  },
  {
   "cell_type": "markdown",
   "metadata": {},
   "source": [
    "Now we create an interactive plot where we show how the AD and SRAS curves move as a result of either a demand shock or a supply shock (or both). "
   ]
  },
  {
   "cell_type": "code",
   "execution_count": 11,
   "metadata": {},
   "outputs": [
    {
     "data": {
      "application/vnd.jupyter.widget-view+json": {
       "model_id": "ff4a48a0d61b459aa540a56961f2d5fd",
       "version_major": 2,
       "version_minor": 0
      },
      "text/plain": [
       "interactive(children=(IntSlider(value=101, description='T', max=202), IntSlider(value=1, description='t'), Che…"
      ]
     },
     "metadata": {},
     "output_type": "display_data"
    },
    {
     "data": {
      "text/plain": [
       "<function __main__.sim_plot(T=101, t=1, supply_shock=True, demand_shock=False)>"
      ]
     },
     "execution_count": 11,
     "metadata": {},
     "output_type": "execute_result"
    }
   ],
   "source": [
    "def sim_plot(T=101, t=1, supply_shock=True, demand_shock=False):\n",
    "    \"\"\" function to plot the simulation over time\n",
    "    \n",
    "    Args:\n",
    "    \n",
    "        T (int): number of periods to simulate\n",
    "        t (int): period to plot\n",
    "        supply_shock (bool): set to True to impose supply shock\n",
    "        demand_shock (bool): set to True to impose demand shock\n",
    "    \n",
    "    Returns:\n",
    "        sim['y'][t], sim['pi'][t] (coordinate): equilibrium output gap and inflation gap in period t\n",
    "    \"\"\"\n",
    "    \n",
    "    # a. run simulation\n",
    "    sim = simulate(parameters,T, supply_shock, demand_shock)\n",
    "    \n",
    "    # b. set up figure\n",
    "    fig = plt.figure(figsize=(15,5))\n",
    "    ax = fig.add_subplot(1,2,1)  #left panel, plots AD, SRAS and equilibrium point\n",
    "    ax2 = fig.add_subplot(1,2,2) #right panel, plots time paths of output gap and equilibrium gap\n",
    "    \n",
    "    # i. LEFT PANEL\n",
    "    # a. plot equilibrium point in period t\n",
    "    ax.plot(sim['y'][t],sim['pi'][t],marker='o', color = 'k')\n",
    "\n",
    "    # b. plot AS and AD curves\n",
    "    y = np.arange(-10,10, 0.1)\n",
    "    SRAS = SRAS_func(parameters['gamma'],y,sim['pi'][t-1],sim['s'][t])\n",
    "    AD = AD_func(parameters['alpha'],y,sim['z'][t]) \n",
    "    ax.plot(y,SRAS)\n",
    "    ax.plot(y, AD)\n",
    "    \n",
    "    # c. set labels and limits for left plot\n",
    "    ax.set_xlabel('$\\hat{y}_t$')\n",
    "    ax.set_ylabel('$\\hat{\\pi}_t$')\n",
    "    ax.set_xlim(-5,5)\n",
    "    ax.set_ylim(-5,5)\n",
    "    ax.legend([\"equilibrium\",\"SRAS\",\"AD\"])\n",
    "    \n",
    "    # ii. RIGHT PANEL\n",
    "    # a. plot equilibrium points in period t\n",
    "    ax2.plot(t-1,sim['y'][t], marker = 'o', color = 'C0', label = 'output gap in period t') \n",
    "    ax2.plot(t-1,sim['pi'][t], marker = 'o', color = 'C1', label = 'inflation gap in period t') \n",
    "    \n",
    "    # b. plot time paths\n",
    "    ax2.plot(np.arange(0,T-1),sim['y'][1:],label='$y_t$, output gap')\n",
    "    ax2.plot(np.arange(0,T-1),sim['pi'][1:],label='$\\pi_t$, inflation gap')\n",
    "    \n",
    "    # c. set legend and show plot\n",
    "    ax2.legend()\n",
    "    plt.show()\n",
    "    \n",
    "    return sim['y'][t], sim['pi'][t]\n",
    "    \n",
    "    \n",
    "    \n",
    "widgets.interact(sim_plot,\n",
    "                T = (0,2*T),\n",
    "                t = (0,T-1),\n",
    "                supply_shock=False, \n",
    "                demand_shock=True\n",
    "                )"
   ]
  },
  {
   "cell_type": "markdown",
   "metadata": {},
   "source": [
    "# Numerical optimization \n",
    "\n",
    "We now turn to the central bank and assume that it wants to choose the parameters $b$ and $h$ to minimize a weighted sum of the inflation gap and the output gap over time. We change the simulation from before slightly in order to make it more realistic. We impose stochastic shocks to both supply and demand continuously, following the same AR(1), white noise processes as before. Before, we set new shocks to 0 after the initial shock at $t=1$, but now we continue imposing shocks in all time periods. Thus, we redefine the simulation function below.\n",
    "\n",
    "I kunne lave et plot, hvor I simulere for forskellige værdier af b og h, viser varians af inflation og outputgab. Herefter kunne I bede en solver finde b og h så centralbankens objektive er så lille som muligt."
   ]
  },
  {
   "cell_type": "code",
   "execution_count": 16,
   "metadata": {},
   "outputs": [],
   "source": [
    "def simulate_cb(parameters,T, b, h):\n",
    "    \"\"\" set up and run simulation with stochastic shocks in all time periods\n",
    "    \n",
    "    Args:\n",
    "    \n",
    "        parameters (dict): model parameters\n",
    "        b (float): central bank parameter to be used (output gap sensitivity)\n",
    "        h (float): central bank parameter to be used (inflation gap sensitivity)\n",
    "        T (int): number of periods to simulate\n",
    "    \n",
    "    Returns:\n",
    "        sim (dict): results of simulation, parameters in T simulated periods\n",
    "    \"\"\"\n",
    "    # a. set seed\n",
    "    np.random.seed(1234)\n",
    "\n",
    "    # b. allocate memory and draw random shocks\n",
    "    sim = {'y': np.zeros(T),\n",
    "          'pi': np.zeros(T),\n",
    "          'v': np.zeros(T),\n",
    "          's': np.zeros(T),\n",
    "          'z': np.zeros(T),\n",
    "          'x': np.random.normal(loc=0,scale=parameters['sigma_x'], size=T),\n",
    "          'c': np.random.normal(loc=0,scale=parameters['sigma_c'], size=T)}\n",
    "    \n",
    "    # c. calculate alpha parameter from b and h parameters\n",
    "    alpha = (parameters['alpha_2']*h)/(1+parameters['alpha_2']*b)    \n",
    "    \n",
    "    #d. simulate\n",
    "    for t in range(1,T):\n",
    "        \n",
    "        # i. impose shocks\n",
    "        sim['v'][t] = parameters['delta']*sim['v'][t-1] + sim['x'][t]\n",
    "        sim['s'][t] = parameters['omega']*sim['s'][t-1] + sim['c'][t]\n",
    "        \n",
    "        # ii. calculate z parameter from shocks\n",
    "        sim['z'][t] = (parameters['alpha_1']*parameters['g_hat']+sim['v'][t])/(1+parameters['alpha_2']*b)\n",
    "        \n",
    "        # iii. calculate output\n",
    "        sim['y'][t] = y_func(alpha,parameters['gamma'],sim['pi'][t-1],sim['z'][t],sim['s'][t])\n",
    "        \n",
    "        # iv. calculate inflation\n",
    "        sim['pi'][t] = pi_func(alpha,parameters['gamma'],sim['pi'][t-1],sim['z'][t],sim['s'][t])\n",
    "    \n",
    "    return sim"
   ]
  },
  {
   "cell_type": "markdown",
   "metadata": {},
   "source": [
    "We simulate the model for 1000 periods and plot the resulting output gap and inflation gap for various combinations of $h$ and $b$."
   ]
  },
  {
   "cell_type": "code",
   "execution_count": 63,
   "metadata": {},
   "outputs": [
    {
     "data": {
      "application/vnd.jupyter.widget-view+json": {
       "model_id": "fa80d00244ea47a8a4a2191b90a159bf",
       "version_major": 2,
       "version_minor": 0
      },
      "text/plain": [
       "interactive(children=(IntSlider(value=1000, description='T', max=3000, min=-1000), FloatSlider(value=0.5, desc…"
      ]
     },
     "metadata": {},
     "output_type": "display_data"
    },
    {
     "data": {
      "text/plain": [
       "<function __main__.sim_plot_cb(T, b=0.5, h=0.5)>"
      ]
     },
     "execution_count": 63,
     "metadata": {},
     "output_type": "execute_result"
    }
   ],
   "source": [
    "def sim_plot_cb(T,b=0.5,h=0.5):\n",
    "    \"\"\" function to plot output gap and inflation gap over simulated periods\n",
    "    \n",
    "    Args:\n",
    "        b (float): central bank parameter to be used (output gap sensitivity)\n",
    "        h (float): central bank parameter to be used (inflation gap sensitivity)\n",
    "        T (int): number of periods to simulate\n",
    "\n",
    "Returns:\n",
    "        sim['y'][t], sim['pi'][t] (coordinate): equilibrium output gap and inflation gap in period t\n",
    "    \"\"\"\n",
    "\n",
    "    # a. simulation\n",
    "    T=1000\n",
    "    sim = simulate_cb(parameters,T,b,h)\n",
    "\n",
    "    # b. figure\n",
    "    fig = plt.figure()\n",
    "    ax = fig.add_subplot(1,1,1)\n",
    "    ax.set_xlabel('$t$')\n",
    "    ax.plot(np.arange(T),sim['y'],label='$\\hat{y}_t$, output gap')\n",
    "    ax.plot(np.arange(T),sim['pi'],label='$\\hat{\\pi}_t$, inflation gap')\n",
    "    ax.legend();\n",
    "\n",
    "    # c. print\n",
    "    def print_sim(sim):\n",
    "\n",
    "        print(f'std. of output gap: {np.std(sim[\"y\"]):.4f}')\n",
    "        print(f'var. of output gap: {np.var(sim[\"y\"]):.4f}')\n",
    "        print(f'std. of inflation gap: {np.std(sim[\"pi\"]):.4f}')\n",
    "        print(f'var. of inflation gap: {np.var(sim[\"pi\"]):.4f}')\n",
    "            \n",
    "    return print_sim(sim)\n",
    "    \n",
    "widgets.interact(sim_plot_cb,\n",
    "                T = T,\n",
    "                b = (0,1,0.01),\n",
    "                h = (0,1,0.01),\n",
    "                )"
   ]
  },
  {
   "cell_type": "markdown",
   "metadata": {},
   "source": [
    "Next, we select an optimizer to minimize a weighted sum of the standard deviation of inflation gap and the standard deviation of the output gap. "
   ]
  },
  {
   "cell_type": "code",
   "execution_count": 60,
   "metadata": {},
   "outputs": [
    {
     "name": "stdout",
     "output_type": "stream",
     "text": [
      "result: b = 25.164 and h = 37.149\n"
     ]
    }
   ],
   "source": [
    "def objective(guess):#, parameters, T):\n",
    "    b = guess[0] \n",
    "    h = guess[1] \n",
    "    \n",
    "    sim = simulate_cb(parameters, T, b, h)\n",
    "    obj = w_y*np.var(sim[\"y\"]) + w_pi*np.var(sim[\"pi\"])\n",
    "    \n",
    "    return obj\n",
    "\n",
    "# a. initial weights, guess and bounds\n",
    "w_y = 0.5\n",
    "w_pi = 0.5\n",
    "guess = [0.5,0.5]\n",
    "bounds = ((0,100),(0,100))\n",
    "\n",
    "# b. call solver\n",
    "result = optimize.minimize(objective, guess, method='SLSQP',bounds=bounds)\n",
    "\n",
    "print(f'result: b = {result.x[0]:.3f} and h = {result.x[1]:.3f}')"
   ]
  },
  {
   "cell_type": "markdown",
   "metadata": {},
   "source": [
    "# Conclusion"
   ]
  },
  {
   "cell_type": "markdown",
   "metadata": {},
   "source": [
    "ADD CONCISE CONCLUSION."
   ]
  }
 ],
 "metadata": {
  "kernelspec": {
   "display_name": "Python 3",
   "language": "python",
   "name": "python3"
  },
  "language_info": {
   "codemirror_mode": {
    "name": "ipython",
    "version": 3
   },
   "file_extension": ".py",
   "mimetype": "text/x-python",
   "name": "python",
   "nbconvert_exporter": "python",
   "pygments_lexer": "ipython3",
   "version": "3.7.6"
  },
  "toc-autonumbering": true
 },
 "nbformat": 4,
 "nbformat_minor": 4
}
